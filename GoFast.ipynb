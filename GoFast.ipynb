{
 "cells": [
  {
   "cell_type": "markdown",
   "id": "b270085e",
   "metadata": {},
   "source": [
    "# Проект: GoFast\n",
    "\n",
    "Вы аналитик популярного сервиса аренды самокатов GoFast. Вам передали данные о некоторых пользователях из нескольких городов, а также об их поездках. Проанализируйте данные и проверьте некоторые гипотезы, которые могут помочь бизнесу вырасти.\n",
    "\n",
    "<b>Цель иследования:</b>\n",
    "1.Проанализировать общие данные о пользователях, их поездках и подписках.\n",
    "2.Провести исследовательский анализ данных, чтобы выявить основные характеристики и тенденции.\n",
    "3.Проверить несколько гипотез, касающихся поведения пользователей и выручки компании.\n",
    "4.Сделать выводы и рекомендации для повышения эффективности бизнеса и увеличения количества подписчиков.\n",
    "\n",
    "<b>Ход иследования:</b>\n",
    "Данные я получу из файла с данными с помощью библиотеки pandas и сохраню их в датафреймы:\n",
    "\n",
    "Пользователи — users_go.csv\n",
    "\n",
    "Поездки — rides_go.csv\n",
    "\n",
    "Подписки — subscriptions_go.csv\n",
    "\n",
    "Я проверю данные на ошибки, поиск и удаление всех различных ошибок, которые не должны повлиять на конечный результат. В проект войдет семь шагов. \n",
    "\n",
    "1. Загрузка данных\n",
    "2. Предобработка данных\n",
    "3. Исследовательский анализ данных\n",
    "4. Объединение данных\n",
    "5. Подсчёт выручки\n",
    "6. Проверка гипотез\n",
    "7. Распределения\n"
   ]
  },
  {
   "cell_type": "code",
   "execution_count": 1,
   "id": "72576667",
   "metadata": {},
   "outputs": [],
   "source": [
    "import pandas as pd"
   ]
  },
  {
   "cell_type": "code",
   "execution_count": 2,
   "id": "aad41ced",
   "metadata": {},
   "outputs": [],
   "source": [
    "import matplotlib.pyplot as plt"
   ]
  },
  {
   "cell_type": "code",
   "execution_count": 3,
   "id": "e4d36afb",
   "metadata": {},
   "outputs": [],
   "source": [
    "import numpy as np"
   ]
  },
  {
   "cell_type": "code",
   "execution_count": 4,
   "id": "20893793",
   "metadata": {},
   "outputs": [],
   "source": [
    "from scipy import stats"
   ]
  },
  {
   "cell_type": "markdown",
   "id": "c42cbe00",
   "metadata": {},
   "source": [
    "#### Шаг 1. Загрузка данных"
   ]
  },
  {
   "cell_type": "code",
   "execution_count": 5,
   "id": "eff9f206",
   "metadata": {},
   "outputs": [],
   "source": [
    "users_df = pd.read_csv('../MyProject/users_go.csv')\n",
    "rides_df = pd.read_csv('../MyProject/rides_go.csv')\n",
    "subscriptions_df = pd.read_csv('../MyProject/subscriptions_go.csv')"
   ]
  },
  {
   "cell_type": "code",
   "execution_count": 6,
   "id": "f060dfcf",
   "metadata": {},
   "outputs": [
    {
     "data": {
      "text/html": [
       "<div>\n",
       "<style scoped>\n",
       "    .dataframe tbody tr th:only-of-type {\n",
       "        vertical-align: middle;\n",
       "    }\n",
       "\n",
       "    .dataframe tbody tr th {\n",
       "        vertical-align: top;\n",
       "    }\n",
       "\n",
       "    .dataframe thead th {\n",
       "        text-align: right;\n",
       "    }\n",
       "</style>\n",
       "<table border=\"1\" class=\"dataframe\">\n",
       "  <thead>\n",
       "    <tr style=\"text-align: right;\">\n",
       "      <th></th>\n",
       "      <th>user_id</th>\n",
       "      <th>name</th>\n",
       "      <th>age</th>\n",
       "      <th>city</th>\n",
       "      <th>subscription_type</th>\n",
       "    </tr>\n",
       "  </thead>\n",
       "  <tbody>\n",
       "    <tr>\n",
       "      <th>0</th>\n",
       "      <td>1</td>\n",
       "      <td>Кира</td>\n",
       "      <td>22</td>\n",
       "      <td>Тюмень</td>\n",
       "      <td>ultra</td>\n",
       "    </tr>\n",
       "    <tr>\n",
       "      <th>1</th>\n",
       "      <td>2</td>\n",
       "      <td>Станислав</td>\n",
       "      <td>31</td>\n",
       "      <td>Омск</td>\n",
       "      <td>ultra</td>\n",
       "    </tr>\n",
       "    <tr>\n",
       "      <th>2</th>\n",
       "      <td>3</td>\n",
       "      <td>Алексей</td>\n",
       "      <td>20</td>\n",
       "      <td>Москва</td>\n",
       "      <td>ultra</td>\n",
       "    </tr>\n",
       "    <tr>\n",
       "      <th>3</th>\n",
       "      <td>4</td>\n",
       "      <td>Константин</td>\n",
       "      <td>26</td>\n",
       "      <td>Ростов-на-Дону</td>\n",
       "      <td>ultra</td>\n",
       "    </tr>\n",
       "    <tr>\n",
       "      <th>4</th>\n",
       "      <td>5</td>\n",
       "      <td>Адель</td>\n",
       "      <td>28</td>\n",
       "      <td>Омск</td>\n",
       "      <td>ultra</td>\n",
       "    </tr>\n",
       "  </tbody>\n",
       "</table>\n",
       "</div>"
      ],
      "text/plain": [
       "   user_id        name  age            city subscription_type\n",
       "0        1        Кира   22          Тюмень             ultra\n",
       "1        2   Станислав   31            Омск             ultra\n",
       "2        3     Алексей   20          Москва             ultra\n",
       "3        4  Константин   26  Ростов-на-Дону             ultra\n",
       "4        5       Адель   28            Омск             ultra"
      ]
     },
     "metadata": {},
     "output_type": "display_data"
    },
    {
     "data": {
      "text/html": [
       "<div>\n",
       "<style scoped>\n",
       "    .dataframe tbody tr th:only-of-type {\n",
       "        vertical-align: middle;\n",
       "    }\n",
       "\n",
       "    .dataframe tbody tr th {\n",
       "        vertical-align: top;\n",
       "    }\n",
       "\n",
       "    .dataframe thead th {\n",
       "        text-align: right;\n",
       "    }\n",
       "</style>\n",
       "<table border=\"1\" class=\"dataframe\">\n",
       "  <thead>\n",
       "    <tr style=\"text-align: right;\">\n",
       "      <th></th>\n",
       "      <th>user_id</th>\n",
       "      <th>distance</th>\n",
       "      <th>duration</th>\n",
       "      <th>date</th>\n",
       "    </tr>\n",
       "  </thead>\n",
       "  <tbody>\n",
       "    <tr>\n",
       "      <th>0</th>\n",
       "      <td>1</td>\n",
       "      <td>4409.919140</td>\n",
       "      <td>25.599769</td>\n",
       "      <td>2021-01-01</td>\n",
       "    </tr>\n",
       "    <tr>\n",
       "      <th>1</th>\n",
       "      <td>1</td>\n",
       "      <td>2617.592153</td>\n",
       "      <td>15.816871</td>\n",
       "      <td>2021-01-18</td>\n",
       "    </tr>\n",
       "    <tr>\n",
       "      <th>2</th>\n",
       "      <td>1</td>\n",
       "      <td>754.159807</td>\n",
       "      <td>6.232113</td>\n",
       "      <td>2021-04-20</td>\n",
       "    </tr>\n",
       "    <tr>\n",
       "      <th>3</th>\n",
       "      <td>1</td>\n",
       "      <td>2694.783254</td>\n",
       "      <td>18.511000</td>\n",
       "      <td>2021-08-11</td>\n",
       "    </tr>\n",
       "    <tr>\n",
       "      <th>4</th>\n",
       "      <td>1</td>\n",
       "      <td>4028.687306</td>\n",
       "      <td>26.265803</td>\n",
       "      <td>2021-08-28</td>\n",
       "    </tr>\n",
       "  </tbody>\n",
       "</table>\n",
       "</div>"
      ],
      "text/plain": [
       "   user_id     distance   duration        date\n",
       "0        1  4409.919140  25.599769  2021-01-01\n",
       "1        1  2617.592153  15.816871  2021-01-18\n",
       "2        1   754.159807   6.232113  2021-04-20\n",
       "3        1  2694.783254  18.511000  2021-08-11\n",
       "4        1  4028.687306  26.265803  2021-08-28"
      ]
     },
     "metadata": {},
     "output_type": "display_data"
    },
    {
     "data": {
      "text/html": [
       "<div>\n",
       "<style scoped>\n",
       "    .dataframe tbody tr th:only-of-type {\n",
       "        vertical-align: middle;\n",
       "    }\n",
       "\n",
       "    .dataframe tbody tr th {\n",
       "        vertical-align: top;\n",
       "    }\n",
       "\n",
       "    .dataframe thead th {\n",
       "        text-align: right;\n",
       "    }\n",
       "</style>\n",
       "<table border=\"1\" class=\"dataframe\">\n",
       "  <thead>\n",
       "    <tr style=\"text-align: right;\">\n",
       "      <th></th>\n",
       "      <th>subscription_type</th>\n",
       "      <th>minute_price</th>\n",
       "      <th>start_ride_price</th>\n",
       "      <th>subscription_fee</th>\n",
       "    </tr>\n",
       "  </thead>\n",
       "  <tbody>\n",
       "    <tr>\n",
       "      <th>0</th>\n",
       "      <td>free</td>\n",
       "      <td>8</td>\n",
       "      <td>50</td>\n",
       "      <td>0</td>\n",
       "    </tr>\n",
       "    <tr>\n",
       "      <th>1</th>\n",
       "      <td>ultra</td>\n",
       "      <td>6</td>\n",
       "      <td>0</td>\n",
       "      <td>199</td>\n",
       "    </tr>\n",
       "  </tbody>\n",
       "</table>\n",
       "</div>"
      ],
      "text/plain": [
       "  subscription_type  minute_price  start_ride_price  subscription_fee\n",
       "0              free             8                50                 0\n",
       "1             ultra             6                 0               199"
      ]
     },
     "metadata": {},
     "output_type": "display_data"
    }
   ],
   "source": [
    "display(users_df.head())\n",
    "\n",
    "display(rides_df.head())\n",
    "\n",
    "display(subscriptions_df.head())"
   ]
  },
  {
   "cell_type": "code",
   "execution_count": 7,
   "id": "474cf7e7",
   "metadata": {},
   "outputs": [
    {
     "name": "stdout",
     "output_type": "stream",
     "text": [
      "Информация о users_df:\n",
      "<class 'pandas.core.frame.DataFrame'>\n",
      "RangeIndex: 1565 entries, 0 to 1564\n",
      "Data columns (total 5 columns):\n",
      " #   Column             Non-Null Count  Dtype \n",
      "---  ------             --------------  ----- \n",
      " 0   user_id            1565 non-null   int64 \n",
      " 1   name               1565 non-null   object\n",
      " 2   age                1565 non-null   int64 \n",
      " 3   city               1565 non-null   object\n",
      " 4   subscription_type  1565 non-null   object\n",
      "dtypes: int64(2), object(3)\n",
      "memory usage: 61.3+ KB\n",
      "None\n",
      "\n",
      "Информация о rides_df:\n",
      "<class 'pandas.core.frame.DataFrame'>\n",
      "RangeIndex: 18068 entries, 0 to 18067\n",
      "Data columns (total 4 columns):\n",
      " #   Column    Non-Null Count  Dtype  \n",
      "---  ------    --------------  -----  \n",
      " 0   user_id   18068 non-null  int64  \n",
      " 1   distance  18068 non-null  float64\n",
      " 2   duration  18068 non-null  float64\n",
      " 3   date      18068 non-null  object \n",
      "dtypes: float64(2), int64(1), object(1)\n",
      "memory usage: 564.8+ KB\n",
      "None\n",
      "\n",
      "Информация о subscriptions_df:\n",
      "<class 'pandas.core.frame.DataFrame'>\n",
      "RangeIndex: 2 entries, 0 to 1\n",
      "Data columns (total 4 columns):\n",
      " #   Column             Non-Null Count  Dtype \n",
      "---  ------             --------------  ----- \n",
      " 0   subscription_type  2 non-null      object\n",
      " 1   minute_price       2 non-null      int64 \n",
      " 2   start_ride_price   2 non-null      int64 \n",
      " 3   subscription_fee   2 non-null      int64 \n",
      "dtypes: int64(3), object(1)\n",
      "memory usage: 196.0+ bytes\n",
      "None\n"
     ]
    }
   ],
   "source": [
    "print(\"Информация о users_df:\")\n",
    "print(users_df.info())\n",
    "\n",
    "print(\"\\nИнформация о rides_df:\")\n",
    "print(rides_df.info())\n",
    "\n",
    "print(\"\\nИнформация о subscriptions_df:\")\n",
    "print(subscriptions_df.info())"
   ]
  },
  {
   "cell_type": "markdown",
   "id": "b1bd3819",
   "metadata": {},
   "source": [
    "#### Промежуточный вывод:"
   ]
  },
  {
   "cell_type": "markdown",
   "id": "ba9d9ded",
   "metadata": {},
   "source": [
    "users_df:\n",
    "\n",
    "Количество записей: 1565.\n",
    "    \n",
    "Столбцы: user_id, name, age, city, subscription_type.\n",
    "    \n",
    "Все значения в столбцах заполнены.\n",
    "\n",
    "rides_df:\n",
    "    \n",
    "Количество записей: 18068.\n",
    "    \n",
    "Столбцы: user_id, distance, duration, date, month.\n",
    "    \n",
    "Все значения в столбцах заполнены.\n",
    "\n",
    "subscriptions_df:\n",
    "    \n",
    "Количество записей: 2.\n",
    "    \n",
    "Столбцы: subscription_type, minute_price, start_ride_price, subscription_fee.\n",
    "    \n",
    "Все значения в столбцах заполнены</div>"
   ]
  },
  {
   "cell_type": "markdown",
   "id": "e95ebca7",
   "metadata": {},
   "source": [
    "#### Шаг 2. Предобработка данных"
   ]
  },
  {
   "cell_type": "markdown",
   "id": "6d49ab1f",
   "metadata": {},
   "source": [
    "Приведение столбца date к типу даты pandas:"
   ]
  },
  {
   "cell_type": "code",
   "execution_count": 8,
   "id": "46ebfc3b",
   "metadata": {},
   "outputs": [],
   "source": [
    "rides_df['date'] = pd.to_datetime(rides_df['date'])"
   ]
  },
  {
   "cell_type": "code",
   "execution_count": 9,
   "id": "e03b5b01",
   "metadata": {},
   "outputs": [
    {
     "name": "stdout",
     "output_type": "stream",
     "text": [
      "Данные за период: 2021-01-01 00:00:00 - 2021-12-30 00:00:00\n"
     ]
    }
   ],
   "source": [
    "min_date = rides_df['date'].min()\n",
    "max_date = rides_df['date'].max()\n",
    "print(f\"Данные за период: {min_date} - {max_date}\")"
   ]
  },
  {
   "cell_type": "markdown",
   "id": "e72b914b",
   "metadata": {},
   "source": [
    "Проверяем анамолии"
   ]
  },
  {
   "cell_type": "code",
   "execution_count": 10,
   "id": "5da2d08a",
   "metadata": {},
   "outputs": [
    {
     "name": "stdout",
     "output_type": "stream",
     "text": [
      "count    18068.000000\n",
      "mean        17.805011\n",
      "std          6.091051\n",
      "min          0.500000\n",
      "25%         13.597563\n",
      "50%         17.678395\n",
      "75%         21.724800\n",
      "max         40.823963\n",
      "Name: duration, dtype: float64\n"
     ]
    }
   ],
   "source": [
    "duration_description = rides_df['duration'].describe()\n",
    "print(duration_description)"
   ]
  },
  {
   "cell_type": "markdown",
   "id": "1e2b2885",
   "metadata": {},
   "source": [
    "Чтобы не было путаницы с месяцами разных лет"
   ]
  },
  {
   "cell_type": "code",
   "execution_count": 11,
   "id": "8a5644e9",
   "metadata": {},
   "outputs": [
    {
     "name": "stdout",
     "output_type": "stream",
     "text": [
      "Уникальный год: [2021]\n",
      "Уникальные месяцы: [ 1  4  8 10 11 12  3  6  7  2  5  9]\n"
     ]
    }
   ],
   "source": [
    "rides_df['month'] = rides_df['date'].dt.month\n",
    "\n",
    "rides_df['year'] = rides_df['date'].dt.year\n",
    "\n",
    "unique_years = rides_df['year'].unique()\n",
    "unique_months = rides_df['month'].unique()\n",
    "\n",
    "print(f\"Уникальный год: {unique_years}\")\n",
    "print(f\"Уникальные месяцы: {unique_months}\")"
   ]
  },
  {
   "cell_type": "markdown",
   "id": "372f1eaa",
   "metadata": {},
   "source": [
    "Проверка наличия пропущенных значений и дубликатов:"
   ]
  },
  {
   "cell_type": "code",
   "execution_count": 12,
   "id": "0e74e703",
   "metadata": {},
   "outputs": [
    {
     "name": "stdout",
     "output_type": "stream",
     "text": [
      "user_id              0\n",
      "name                 0\n",
      "age                  0\n",
      "city                 0\n",
      "subscription_type    0\n",
      "dtype: int64\n",
      "user_id     0\n",
      "distance    0\n",
      "duration    0\n",
      "date        0\n",
      "month       0\n",
      "year        0\n",
      "dtype: int64\n",
      "subscription_type    0\n",
      "minute_price         0\n",
      "start_ride_price     0\n",
      "subscription_fee     0\n",
      "dtype: int64\n",
      "\n",
      "Дубликаты в users_df: 31\n",
      "Дубликаты в rides_df: 0\n",
      "Дубликаты в subscriptions_df: 0\n"
     ]
    }
   ],
   "source": [
    "print(users_df.isnull().sum())\n",
    "\n",
    "print(rides_df.isnull().sum())\n",
    "\n",
    "print(subscriptions_df.isnull().sum())\n",
    "\n",
    "print(\"\\nДубликаты в users_df:\", users_df.duplicated().sum())\n",
    "print(\"Дубликаты в rides_df:\", rides_df.duplicated().sum())\n",
    "print(\"Дубликаты в subscriptions_df:\", subscriptions_df.duplicated().sum())"
   ]
  },
  {
   "cell_type": "markdown",
   "id": "1e57e085",
   "metadata": {},
   "source": [
    "Удаление дубликатов:"
   ]
  },
  {
   "cell_type": "code",
   "execution_count": 13,
   "id": "b7bb280c",
   "metadata": {},
   "outputs": [],
   "source": [
    "users_df = users_df.drop_duplicates()"
   ]
  },
  {
   "cell_type": "code",
   "execution_count": 14,
   "id": "77a19c9c",
   "metadata": {},
   "outputs": [
    {
     "name": "stdout",
     "output_type": "stream",
     "text": [
      "Дубликаты в users_df: 0\n"
     ]
    }
   ],
   "source": [
    "print(\"Дубликаты в users_df:\", users_df.duplicated().sum())"
   ]
  },
  {
   "cell_type": "code",
   "execution_count": 15,
   "id": "19bd86a0",
   "metadata": {},
   "outputs": [
    {
     "name": "stdout",
     "output_type": "stream",
     "text": [
      "\n",
      "Оценка качества данных:\n",
      "Пользователи:\n"
     ]
    },
    {
     "data": {
      "text/html": [
       "<div>\n",
       "<style scoped>\n",
       "    .dataframe tbody tr th:only-of-type {\n",
       "        vertical-align: middle;\n",
       "    }\n",
       "\n",
       "    .dataframe tbody tr th {\n",
       "        vertical-align: top;\n",
       "    }\n",
       "\n",
       "    .dataframe thead th {\n",
       "        text-align: right;\n",
       "    }\n",
       "</style>\n",
       "<table border=\"1\" class=\"dataframe\">\n",
       "  <thead>\n",
       "    <tr style=\"text-align: right;\">\n",
       "      <th></th>\n",
       "      <th>user_id</th>\n",
       "      <th>age</th>\n",
       "    </tr>\n",
       "  </thead>\n",
       "  <tbody>\n",
       "    <tr>\n",
       "      <th>count</th>\n",
       "      <td>1534.000000</td>\n",
       "      <td>1534.000000</td>\n",
       "    </tr>\n",
       "    <tr>\n",
       "      <th>mean</th>\n",
       "      <td>767.500000</td>\n",
       "      <td>24.903520</td>\n",
       "    </tr>\n",
       "    <tr>\n",
       "      <th>std</th>\n",
       "      <td>442.971971</td>\n",
       "      <td>4.572367</td>\n",
       "    </tr>\n",
       "    <tr>\n",
       "      <th>min</th>\n",
       "      <td>1.000000</td>\n",
       "      <td>12.000000</td>\n",
       "    </tr>\n",
       "    <tr>\n",
       "      <th>25%</th>\n",
       "      <td>384.250000</td>\n",
       "      <td>22.000000</td>\n",
       "    </tr>\n",
       "    <tr>\n",
       "      <th>50%</th>\n",
       "      <td>767.500000</td>\n",
       "      <td>25.000000</td>\n",
       "    </tr>\n",
       "    <tr>\n",
       "      <th>75%</th>\n",
       "      <td>1150.750000</td>\n",
       "      <td>28.000000</td>\n",
       "    </tr>\n",
       "    <tr>\n",
       "      <th>max</th>\n",
       "      <td>1534.000000</td>\n",
       "      <td>43.000000</td>\n",
       "    </tr>\n",
       "  </tbody>\n",
       "</table>\n",
       "</div>"
      ],
      "text/plain": [
       "           user_id          age\n",
       "count  1534.000000  1534.000000\n",
       "mean    767.500000    24.903520\n",
       "std     442.971971     4.572367\n",
       "min       1.000000    12.000000\n",
       "25%     384.250000    22.000000\n",
       "50%     767.500000    25.000000\n",
       "75%    1150.750000    28.000000\n",
       "max    1534.000000    43.000000"
      ]
     },
     "metadata": {},
     "output_type": "display_data"
    },
    {
     "name": "stdout",
     "output_type": "stream",
     "text": [
      "\n",
      "Поездки:\n"
     ]
    },
    {
     "data": {
      "text/html": [
       "<div>\n",
       "<style scoped>\n",
       "    .dataframe tbody tr th:only-of-type {\n",
       "        vertical-align: middle;\n",
       "    }\n",
       "\n",
       "    .dataframe tbody tr th {\n",
       "        vertical-align: top;\n",
       "    }\n",
       "\n",
       "    .dataframe thead th {\n",
       "        text-align: right;\n",
       "    }\n",
       "</style>\n",
       "<table border=\"1\" class=\"dataframe\">\n",
       "  <thead>\n",
       "    <tr style=\"text-align: right;\">\n",
       "      <th></th>\n",
       "      <th>user_id</th>\n",
       "      <th>distance</th>\n",
       "      <th>duration</th>\n",
       "      <th>date</th>\n",
       "      <th>month</th>\n",
       "      <th>year</th>\n",
       "    </tr>\n",
       "  </thead>\n",
       "  <tbody>\n",
       "    <tr>\n",
       "      <th>count</th>\n",
       "      <td>18068.000000</td>\n",
       "      <td>18068.000000</td>\n",
       "      <td>18068.000000</td>\n",
       "      <td>18068</td>\n",
       "      <td>18068.000000</td>\n",
       "      <td>18068.0</td>\n",
       "    </tr>\n",
       "    <tr>\n",
       "      <th>mean</th>\n",
       "      <td>842.869936</td>\n",
       "      <td>3070.659976</td>\n",
       "      <td>17.805011</td>\n",
       "      <td>2021-06-30 19:47:21.266327296</td>\n",
       "      <td>6.486772</td>\n",
       "      <td>2021.0</td>\n",
       "    </tr>\n",
       "    <tr>\n",
       "      <th>min</th>\n",
       "      <td>1.000000</td>\n",
       "      <td>0.855683</td>\n",
       "      <td>0.500000</td>\n",
       "      <td>2021-01-01 00:00:00</td>\n",
       "      <td>1.000000</td>\n",
       "      <td>2021.0</td>\n",
       "    </tr>\n",
       "    <tr>\n",
       "      <th>25%</th>\n",
       "      <td>487.000000</td>\n",
       "      <td>2543.226360</td>\n",
       "      <td>13.597563</td>\n",
       "      <td>2021-04-02 00:00:00</td>\n",
       "      <td>4.000000</td>\n",
       "      <td>2021.0</td>\n",
       "    </tr>\n",
       "    <tr>\n",
       "      <th>50%</th>\n",
       "      <td>889.000000</td>\n",
       "      <td>3133.609994</td>\n",
       "      <td>17.678395</td>\n",
       "      <td>2021-06-30 00:00:00</td>\n",
       "      <td>6.000000</td>\n",
       "      <td>2021.0</td>\n",
       "    </tr>\n",
       "    <tr>\n",
       "      <th>75%</th>\n",
       "      <td>1213.250000</td>\n",
       "      <td>3776.222735</td>\n",
       "      <td>21.724800</td>\n",
       "      <td>2021-09-28 00:00:00</td>\n",
       "      <td>9.000000</td>\n",
       "      <td>2021.0</td>\n",
       "    </tr>\n",
       "    <tr>\n",
       "      <th>max</th>\n",
       "      <td>1534.000000</td>\n",
       "      <td>7211.007745</td>\n",
       "      <td>40.823963</td>\n",
       "      <td>2021-12-30 00:00:00</td>\n",
       "      <td>12.000000</td>\n",
       "      <td>2021.0</td>\n",
       "    </tr>\n",
       "    <tr>\n",
       "      <th>std</th>\n",
       "      <td>434.734317</td>\n",
       "      <td>1116.831209</td>\n",
       "      <td>6.091051</td>\n",
       "      <td>NaN</td>\n",
       "      <td>3.437410</td>\n",
       "      <td>0.0</td>\n",
       "    </tr>\n",
       "  </tbody>\n",
       "</table>\n",
       "</div>"
      ],
      "text/plain": [
       "            user_id      distance      duration  \\\n",
       "count  18068.000000  18068.000000  18068.000000   \n",
       "mean     842.869936   3070.659976     17.805011   \n",
       "min        1.000000      0.855683      0.500000   \n",
       "25%      487.000000   2543.226360     13.597563   \n",
       "50%      889.000000   3133.609994     17.678395   \n",
       "75%     1213.250000   3776.222735     21.724800   \n",
       "max     1534.000000   7211.007745     40.823963   \n",
       "std      434.734317   1116.831209      6.091051   \n",
       "\n",
       "                                date         month     year  \n",
       "count                          18068  18068.000000  18068.0  \n",
       "mean   2021-06-30 19:47:21.266327296      6.486772   2021.0  \n",
       "min              2021-01-01 00:00:00      1.000000   2021.0  \n",
       "25%              2021-04-02 00:00:00      4.000000   2021.0  \n",
       "50%              2021-06-30 00:00:00      6.000000   2021.0  \n",
       "75%              2021-09-28 00:00:00      9.000000   2021.0  \n",
       "max              2021-12-30 00:00:00     12.000000   2021.0  \n",
       "std                              NaN      3.437410      0.0  "
      ]
     },
     "metadata": {},
     "output_type": "display_data"
    },
    {
     "name": "stdout",
     "output_type": "stream",
     "text": [
      "\n",
      "Подписки:\n"
     ]
    },
    {
     "data": {
      "text/html": [
       "<div>\n",
       "<style scoped>\n",
       "    .dataframe tbody tr th:only-of-type {\n",
       "        vertical-align: middle;\n",
       "    }\n",
       "\n",
       "    .dataframe tbody tr th {\n",
       "        vertical-align: top;\n",
       "    }\n",
       "\n",
       "    .dataframe thead th {\n",
       "        text-align: right;\n",
       "    }\n",
       "</style>\n",
       "<table border=\"1\" class=\"dataframe\">\n",
       "  <thead>\n",
       "    <tr style=\"text-align: right;\">\n",
       "      <th></th>\n",
       "      <th>minute_price</th>\n",
       "      <th>start_ride_price</th>\n",
       "      <th>subscription_fee</th>\n",
       "    </tr>\n",
       "  </thead>\n",
       "  <tbody>\n",
       "    <tr>\n",
       "      <th>count</th>\n",
       "      <td>2.000000</td>\n",
       "      <td>2.000000</td>\n",
       "      <td>2.000000</td>\n",
       "    </tr>\n",
       "    <tr>\n",
       "      <th>mean</th>\n",
       "      <td>7.000000</td>\n",
       "      <td>25.000000</td>\n",
       "      <td>99.500000</td>\n",
       "    </tr>\n",
       "    <tr>\n",
       "      <th>std</th>\n",
       "      <td>1.414214</td>\n",
       "      <td>35.355339</td>\n",
       "      <td>140.714249</td>\n",
       "    </tr>\n",
       "    <tr>\n",
       "      <th>min</th>\n",
       "      <td>6.000000</td>\n",
       "      <td>0.000000</td>\n",
       "      <td>0.000000</td>\n",
       "    </tr>\n",
       "    <tr>\n",
       "      <th>25%</th>\n",
       "      <td>6.500000</td>\n",
       "      <td>12.500000</td>\n",
       "      <td>49.750000</td>\n",
       "    </tr>\n",
       "    <tr>\n",
       "      <th>50%</th>\n",
       "      <td>7.000000</td>\n",
       "      <td>25.000000</td>\n",
       "      <td>99.500000</td>\n",
       "    </tr>\n",
       "    <tr>\n",
       "      <th>75%</th>\n",
       "      <td>7.500000</td>\n",
       "      <td>37.500000</td>\n",
       "      <td>149.250000</td>\n",
       "    </tr>\n",
       "    <tr>\n",
       "      <th>max</th>\n",
       "      <td>8.000000</td>\n",
       "      <td>50.000000</td>\n",
       "      <td>199.000000</td>\n",
       "    </tr>\n",
       "  </tbody>\n",
       "</table>\n",
       "</div>"
      ],
      "text/plain": [
       "       minute_price  start_ride_price  subscription_fee\n",
       "count      2.000000          2.000000          2.000000\n",
       "mean       7.000000         25.000000         99.500000\n",
       "std        1.414214         35.355339        140.714249\n",
       "min        6.000000          0.000000          0.000000\n",
       "25%        6.500000         12.500000         49.750000\n",
       "50%        7.000000         25.000000         99.500000\n",
       "75%        7.500000         37.500000        149.250000\n",
       "max        8.000000         50.000000        199.000000"
      ]
     },
     "metadata": {},
     "output_type": "display_data"
    }
   ],
   "source": [
    "print(\"\\nОценка качества данных:\")\n",
    "print(\"Пользователи:\") \n",
    "display(users_df.describe())\n",
    "print(\"\\nПоездки:\") \n",
    "display(rides_df.describe())\n",
    "print(\"\\nПодписки:\") \n",
    "display(subscriptions_df.describe())"
   ]
  },
  {
   "cell_type": "markdown",
   "id": "7cb61394",
   "metadata": {},
   "source": [
    "#### Промежуточный вывод:"
   ]
  },
  {
   "cell_type": "markdown",
   "id": "5496335b",
   "metadata": {},
   "source": [
    "1. В данных отсутствуют пропущенные значения.\n",
    "    \n",
    "2. Дубликаты в данных пользователей были обнаружены и успешно удалены.\n",
    "    \n",
    "3. Данные о поездках и подписках не содержат дубликатов.\n",
    "    \n",
    "4. Данные охватывают период с 2021-01-01 по 2021-12-30 и содержат информацию о всех месяцах 2021 года.</div>"
   ]
  },
  {
   "cell_type": "markdown",
   "id": "212593c7",
   "metadata": {},
   "source": [
    "#### Шаг 3. Исследовательский анализ данных"
   ]
  },
  {
   "cell_type": "markdown",
   "id": "ae5ceadd",
   "metadata": {},
   "source": [
    " Частота встречаемости городов:"
   ]
  },
  {
   "cell_type": "code",
   "execution_count": 16,
   "id": "e3a4274c",
   "metadata": {},
   "outputs": [
    {
     "name": "stdout",
     "output_type": "stream",
     "text": [
      "city\n",
      "Пятигорск         219\n",
      "Екатеринбург      204\n",
      "Ростов-на-Дону    198\n",
      "Краснодар         193\n",
      "Сочи              189\n",
      "Омск              183\n",
      "Тюмень            180\n",
      "Москва            168\n",
      "Name: count, dtype: int64\n"
     ]
    }
   ],
   "source": [
    "city_counts = users_df['city'].value_counts()\n",
    "print(city_counts)"
   ]
  },
  {
   "cell_type": "markdown",
   "id": "df2c034b",
   "metadata": {},
   "source": [
    "Визуализация:"
   ]
  },
  {
   "cell_type": "code",
   "execution_count": 17,
   "id": "29115cee",
   "metadata": {},
   "outputs": [
    {
     "data": {
      "image/png": "[encoded data removed]",
      "text/plain": [
       "<Figure size 1000x600 with 1 Axes>"
      ]
     },
     "metadata": {},
     "output_type": "display_data"
    }
   ],
   "source": [
    "plt.figure(figsize=(10, 6))\n",
    "city_counts.plot(kind='bar', color='skyblue', edgecolor='black')\n",
    "plt.title('Частота встречаемости городов')\n",
    "plt.xlabel('Город')\n",
    "plt.ylabel('Число пользователей')\n",
    "plt.xticks(rotation=45)\n",
    "plt.grid(axis='y')\n",
    "plt.tight_layout()\n",
    "plt.show()"
   ]
  },
  {
   "cell_type": "markdown",
   "id": "9ddf42ca",
   "metadata": {},
   "source": [
    "Соотношение пользователей с подпиской и без подписки:"
   ]
  },
  {
   "cell_type": "code",
   "execution_count": 18,
   "id": "d69c9076",
   "metadata": {},
   "outputs": [
    {
     "name": "stdout",
     "output_type": "stream",
     "text": [
      "subscription_type\n",
      "free     54.432855\n",
      "ultra    45.567145\n",
      "Name: proportion, dtype: float64\n"
     ]
    }
   ],
   "source": [
    "subscription_counts = users_df['subscription_type'].value_counts(normalize=True) * 100\n",
    "print(subscription_counts)"
   ]
  },
  {
   "cell_type": "markdown",
   "id": "66f822d7",
   "metadata": {},
   "source": [
    "Визуализация:"
   ]
  },
  {
   "cell_type": "code",
   "execution_count": 19,
   "id": "b1e0ebec",
   "metadata": {},
   "outputs": [
    {
     "data": {
      "image/png": "[encoded data removed]",
      "text/plain": [
       "<Figure size 800x600 with 1 Axes>"
      ]
     },
     "metadata": {},
     "output_type": "display_data"
    }
   ],
   "source": [
    "plt.figure(figsize=(8, 6))\n",
    "subscription_counts.plot(kind='bar', color=['skyblue', 'lightgreen'], edgecolor='black')\n",
    "plt.title('Соотношение пользователей с подпиской и без подписки')\n",
    "plt.xlabel('Тип подписки')\n",
    "plt.ylabel('Количество пользователей')\n",
    "plt.xticks(rotation=0)\n",
    "plt.grid(axis='y')\n",
    "plt.tight_layout()\n",
    "plt.show()"
   ]
  },
  {
   "cell_type": "markdown",
   "id": "40911b77",
   "metadata": {},
   "source": [
    "#### Промежуточный вывод:"
   ]
  },
  {
   "cell_type": "markdown",
   "id": "6aefaeb8",
   "metadata": {},
   "source": [
    "Распределение пользователей: Большинство пользователей (54.06%) используют бесплатную версию сервиса, тогда как 45.94% пользуются платной подпиской \"ultra\"."
   ]
  },
  {
   "cell_type": "markdown",
   "id": "2c281116",
   "metadata": {},
   "source": [
    "Возраст пользователей:"
   ]
  },
  {
   "cell_type": "code",
   "execution_count": 20,
   "id": "46067c76",
   "metadata": {},
   "outputs": [
    {
     "name": "stdout",
     "output_type": "stream",
     "text": [
      "count    1534.000000\n",
      "mean       24.903520\n",
      "std         4.572367\n",
      "min        12.000000\n",
      "25%        22.000000\n",
      "50%        25.000000\n",
      "75%        28.000000\n",
      "max        43.000000\n",
      "Name: age, dtype: float64\n"
     ]
    }
   ],
   "source": [
    "age_summary = users_df['age'].describe()\n",
    "print(age_summary)"
   ]
  },
  {
   "cell_type": "markdown",
   "id": "ce15517a",
   "metadata": {},
   "source": [
    "Визуализация:"
   ]
  },
  {
   "cell_type": "code",
   "execution_count": 21,
   "id": "e61131dc",
   "metadata": {},
   "outputs": [
    {
     "data": {
      "image/png": "[encoded data removed]",
      "text/plain": [
       "<Figure size 800x600 with 1 Axes>"
      ]
     },
     "metadata": {},
     "output_type": "display_data"
    }
   ],
   "source": [
    "plt.figure(figsize=(8, 6))\n",
    "plt.hist(users_df['age'], bins=20, color='skyblue', edgecolor='black')\n",
    "plt.title('Распределение возраста пользователей')\n",
    "plt.xlabel('Возраст')\n",
    "plt.ylabel('Частота')\n",
    "plt.grid(axis='y')\n",
    "plt.tight_layout()\n",
    "plt.show()"
   ]
  },
  {
   "cell_type": "markdown",
   "id": "d5fce2a9",
   "metadata": {},
   "source": [
    "Расстояние и продолжительность поездок:"
   ]
  },
  {
   "cell_type": "code",
   "execution_count": 22,
   "id": "3677c6f5",
   "metadata": {},
   "outputs": [
    {
     "name": "stdout",
     "output_type": "stream",
     "text": [
      "count    18068.000000\n",
      "mean      3070.659976\n",
      "std       1116.831209\n",
      "min          0.855683\n",
      "25%       2543.226360\n",
      "50%       3133.609994\n",
      "75%       3776.222735\n",
      "max       7211.007745\n",
      "Name: distance, dtype: float64\n",
      "count    18068.000000\n",
      "mean        17.805011\n",
      "std          6.091051\n",
      "min          0.500000\n",
      "25%         13.597563\n",
      "50%         17.678395\n",
      "75%         21.724800\n",
      "max         40.823963\n",
      "Name: duration, dtype: float64\n"
     ]
    }
   ],
   "source": [
    "distance_summary = rides_df['distance'].describe()\n",
    "duration_summary = rides_df['duration'].describe()\n",
    "\n",
    "print(distance_summary)\n",
    "\n",
    "print(duration_summary)"
   ]
  },
  {
   "cell_type": "code",
   "execution_count": 23,
   "id": "e7d2f041",
   "metadata": {},
   "outputs": [
    {
     "data": {
      "image/png": "[encoded data removed]",
      "text/plain": [
       "<Figure size 1200x800 with 2 Axes>"
      ]
     },
     "metadata": {},
     "output_type": "display_data"
    }
   ],
   "source": [
    "plt.figure(figsize=(12, 8))\n",
    "\n",
    "plt.subplot(2, 1, 1)\n",
    "plt.hist(rides_df['distance'], bins=30, color='skyblue', edgecolor='black')\n",
    "plt.title('Распределение расстояния поездок')\n",
    "plt.xlabel('Расстояние, м')\n",
    "plt.ylabel('Частота')\n",
    "plt.grid(axis='y')\n",
    "\n",
    "plt.subplot(2, 1, 2)\n",
    "plt.boxplot(rides_df['distance'], vert=False, patch_artist=True, boxprops=dict(facecolor='skyblue', color='black'))\n",
    "plt.xlabel('Расстояние, м')\n",
    "plt.grid(axis='x')\n",
    "\n",
    "plt.tight_layout()\n",
    "plt.show()"
   ]
  },
  {
   "cell_type": "code",
   "execution_count": 24,
   "id": "dfe1d01b",
   "metadata": {},
   "outputs": [
    {
     "data": {
      "image/png": "[encoded data removed]",
      "text/plain": [
       "<Figure size 1200x800 with 2 Axes>"
      ]
     },
     "metadata": {},
     "output_type": "display_data"
    }
   ],
   "source": [
    "plt.figure(figsize=(12, 8))\n",
    "\n",
    "plt.subplot(2, 1, 1)\n",
    "plt.hist(rides_df['duration'], bins=30, color='lightgreen', edgecolor='black')\n",
    "plt.title('Распределение продолжительности поездок')\n",
    "plt.xlabel('Продолжительность, мин')\n",
    "plt.ylabel('Частота')\n",
    "plt.grid(axis='y')\n",
    "\n",
    "plt.subplot(2, 1, 2)\n",
    "plt.boxplot(rides_df['duration'], vert=False, patch_artist=True, boxprops=dict(facecolor='lightgreen', color='black'))\n",
    "plt.xlabel('Продолжительность, мин')\n",
    "plt.grid(axis='x')\n",
    "\n",
    "plt.tight_layout()\n",
    "plt.show()"
   ]
  },
  {
   "cell_type": "markdown",
   "id": "4ef51331",
   "metadata": {},
   "source": [
    "#### Шаг 4. Объединение данных"
   ]
  },
  {
   "cell_type": "markdown",
   "id": "215e38c8",
   "metadata": {},
   "source": [
    "Объединение данных о пользователях и поездках"
   ]
  },
  {
   "cell_type": "code",
   "execution_count": 25,
   "id": "70b8f084",
   "metadata": {},
   "outputs": [],
   "source": [
    "merged_df = pd.merge(users_df, rides_df, on='user_id', how='left')"
   ]
  },
  {
   "cell_type": "markdown",
   "id": "65477454",
   "metadata": {},
   "source": [
    "Проверка коррекктности размерности"
   ]
  },
  {
   "cell_type": "code",
   "execution_count": 26,
   "id": "a41bd28c",
   "metadata": {},
   "outputs": [
    {
     "name": "stdout",
     "output_type": "stream",
     "text": [
      "(18068, 10)\n"
     ]
    }
   ],
   "source": [
    "print(merged_df.shape)"
   ]
  },
  {
   "cell_type": "markdown",
   "id": "27f4123d",
   "metadata": {},
   "source": [
    "Объединение с данными о подписках"
   ]
  },
  {
   "cell_type": "code",
   "execution_count": 27,
   "id": "aa7cc6cf",
   "metadata": {},
   "outputs": [],
   "source": [
    "merged_df = pd.merge(merged_df, subscriptions_df, on='subscription_type', how='left')"
   ]
  },
  {
   "cell_type": "markdown",
   "id": "d0c33ee9",
   "metadata": {},
   "source": [
    "Проверка коррекктности размерности"
   ]
  },
  {
   "cell_type": "code",
   "execution_count": 28,
   "id": "ea51b680",
   "metadata": {},
   "outputs": [
    {
     "name": "stdout",
     "output_type": "stream",
     "text": [
      "(18068, 13)\n"
     ]
    }
   ],
   "source": [
    "print(merged_df.shape)"
   ]
  },
  {
   "cell_type": "code",
   "execution_count": 29,
   "id": "0c0f5eb7",
   "metadata": {},
   "outputs": [
    {
     "data": {
      "text/html": [
       "<div>\n",
       "<style scoped>\n",
       "    .dataframe tbody tr th:only-of-type {\n",
       "        vertical-align: middle;\n",
       "    }\n",
       "\n",
       "    .dataframe tbody tr th {\n",
       "        vertical-align: top;\n",
       "    }\n",
       "\n",
       "    .dataframe thead th {\n",
       "        text-align: right;\n",
       "    }\n",
       "</style>\n",
       "<table border=\"1\" class=\"dataframe\">\n",
       "  <thead>\n",
       "    <tr style=\"text-align: right;\">\n",
       "      <th></th>\n",
       "      <th>user_id</th>\n",
       "      <th>name</th>\n",
       "      <th>age</th>\n",
       "      <th>city</th>\n",
       "      <th>subscription_type</th>\n",
       "      <th>distance</th>\n",
       "      <th>duration</th>\n",
       "      <th>date</th>\n",
       "      <th>month</th>\n",
       "      <th>year</th>\n",
       "      <th>minute_price</th>\n",
       "      <th>start_ride_price</th>\n",
       "      <th>subscription_fee</th>\n",
       "    </tr>\n",
       "  </thead>\n",
       "  <tbody>\n",
       "    <tr>\n",
       "      <th>0</th>\n",
       "      <td>1</td>\n",
       "      <td>Кира</td>\n",
       "      <td>22</td>\n",
       "      <td>Тюмень</td>\n",
       "      <td>ultra</td>\n",
       "      <td>4409.919140</td>\n",
       "      <td>25.599769</td>\n",
       "      <td>2021-01-01</td>\n",
       "      <td>1</td>\n",
       "      <td>2021</td>\n",
       "      <td>6</td>\n",
       "      <td>0</td>\n",
       "      <td>199</td>\n",
       "    </tr>\n",
       "    <tr>\n",
       "      <th>1</th>\n",
       "      <td>1</td>\n",
       "      <td>Кира</td>\n",
       "      <td>22</td>\n",
       "      <td>Тюмень</td>\n",
       "      <td>ultra</td>\n",
       "      <td>2617.592153</td>\n",
       "      <td>15.816871</td>\n",
       "      <td>2021-01-18</td>\n",
       "      <td>1</td>\n",
       "      <td>2021</td>\n",
       "      <td>6</td>\n",
       "      <td>0</td>\n",
       "      <td>199</td>\n",
       "    </tr>\n",
       "    <tr>\n",
       "      <th>2</th>\n",
       "      <td>1</td>\n",
       "      <td>Кира</td>\n",
       "      <td>22</td>\n",
       "      <td>Тюмень</td>\n",
       "      <td>ultra</td>\n",
       "      <td>754.159807</td>\n",
       "      <td>6.232113</td>\n",
       "      <td>2021-04-20</td>\n",
       "      <td>4</td>\n",
       "      <td>2021</td>\n",
       "      <td>6</td>\n",
       "      <td>0</td>\n",
       "      <td>199</td>\n",
       "    </tr>\n",
       "    <tr>\n",
       "      <th>3</th>\n",
       "      <td>1</td>\n",
       "      <td>Кира</td>\n",
       "      <td>22</td>\n",
       "      <td>Тюмень</td>\n",
       "      <td>ultra</td>\n",
       "      <td>2694.783254</td>\n",
       "      <td>18.511000</td>\n",
       "      <td>2021-08-11</td>\n",
       "      <td>8</td>\n",
       "      <td>2021</td>\n",
       "      <td>6</td>\n",
       "      <td>0</td>\n",
       "      <td>199</td>\n",
       "    </tr>\n",
       "    <tr>\n",
       "      <th>4</th>\n",
       "      <td>1</td>\n",
       "      <td>Кира</td>\n",
       "      <td>22</td>\n",
       "      <td>Тюмень</td>\n",
       "      <td>ultra</td>\n",
       "      <td>4028.687306</td>\n",
       "      <td>26.265803</td>\n",
       "      <td>2021-08-28</td>\n",
       "      <td>8</td>\n",
       "      <td>2021</td>\n",
       "      <td>6</td>\n",
       "      <td>0</td>\n",
       "      <td>199</td>\n",
       "    </tr>\n",
       "  </tbody>\n",
       "</table>\n",
       "</div>"
      ],
      "text/plain": [
       "   user_id  name  age    city subscription_type     distance   duration  \\\n",
       "0        1  Кира   22  Тюмень             ultra  4409.919140  25.599769   \n",
       "1        1  Кира   22  Тюмень             ultra  2617.592153  15.816871   \n",
       "2        1  Кира   22  Тюмень             ultra   754.159807   6.232113   \n",
       "3        1  Кира   22  Тюмень             ultra  2694.783254  18.511000   \n",
       "4        1  Кира   22  Тюмень             ultra  4028.687306  26.265803   \n",
       "\n",
       "        date  month  year  minute_price  start_ride_price  subscription_fee  \n",
       "0 2021-01-01      1  2021             6                 0               199  \n",
       "1 2021-01-18      1  2021             6                 0               199  \n",
       "2 2021-04-20      4  2021             6                 0               199  \n",
       "3 2021-08-11      8  2021             6                 0               199  \n",
       "4 2021-08-28      8  2021             6                 0               199  "
      ]
     },
     "metadata": {},
     "output_type": "display_data"
    }
   ],
   "source": [
    "display(merged_df.head())"
   ]
  },
  {
   "cell_type": "markdown",
   "id": "144247f9",
   "metadata": {},
   "source": [
    "Датафрейм с данными о пользователях без подписки"
   ]
  },
  {
   "cell_type": "code",
   "execution_count": 30,
   "id": "24ba8f13",
   "metadata": {},
   "outputs": [],
   "source": [
    "no_subscription_df = merged_df[merged_df['subscription_type'] == 'free']"
   ]
  },
  {
   "cell_type": "markdown",
   "id": "a4aed6ba",
   "metadata": {},
   "source": [
    "Датафрейм с данными о пользователях с подпиской"
   ]
  },
  {
   "cell_type": "code",
   "execution_count": 31,
   "id": "c78685f5",
   "metadata": {},
   "outputs": [],
   "source": [
    "with_subscription_df = merged_df[merged_df['subscription_type'] == 'ultra']"
   ]
  },
  {
   "cell_type": "code",
   "execution_count": 32,
   "id": "40b907fa",
   "metadata": {},
   "outputs": [
    {
     "name": "stdout",
     "output_type": "stream",
     "text": [
      "Количество пользователей без подписки: 11568\n",
      "Количество пользователей с подпиской: 6500\n"
     ]
    }
   ],
   "source": [
    "print(f\"Количество пользователей без подписки: {len(no_subscription_df)}\")\n",
    "print(f\"Количество пользователей с подпиской: {len(with_subscription_df)}\")"
   ]
  },
  {
   "cell_type": "markdown",
   "id": "8d481066",
   "metadata": {},
   "source": [
    "Визуализация:"
   ]
  },
  {
   "cell_type": "code",
   "execution_count": 33,
   "id": "1e1387b0",
   "metadata": {},
   "outputs": [
    {
     "data": {
      "image/png": "[encoded data removed]",
      "text/plain": [
       "<Figure size 1200x600 with 2 Axes>"
      ]
     },
     "metadata": {},
     "output_type": "display_data"
    },
    {
     "data": {
      "image/png": "[encoded data removed]",
      "text/plain": [
       "<Figure size 1200x600 with 2 Axes>"
      ]
     },
     "metadata": {},
     "output_type": "display_data"
    }
   ],
   "source": [
    "plt.figure(figsize=(12, 6))\n",
    "\n",
    "plt.subplot(1, 2, 1)\n",
    "plt.hist(no_subscription_df['distance'], bins=30, color='lightblue', edgecolor='black')\n",
    "plt.title('Распределение расстояния поездок (без подписки)')\n",
    "plt.xlabel('Расстояние, км')\n",
    "plt.ylabel('Частота')\n",
    "plt.grid(axis='y')\n",
    "\n",
    "plt.subplot(1, 2, 2)\n",
    "plt.hist(with_subscription_df['distance'], bins=30, color='lightgreen', edgecolor='black')\n",
    "plt.title('Распределение расстояния поездок (с подпиской)')\n",
    "plt.xlabel('Расстояние, км')\n",
    "plt.ylabel('Частота')\n",
    "plt.grid(axis='y')\n",
    "\n",
    "plt.tight_layout()\n",
    "plt.show()\n",
    "\n",
    "plt.figure(figsize=(12, 6))\n",
    "\n",
    "plt.subplot(1, 2, 1)\n",
    "plt.hist(no_subscription_df['duration'], bins=30, color='lightblue', edgecolor='black')\n",
    "plt.title('Распределение времени поездок (без подписки)')\n",
    "plt.xlabel('Время, мин')\n",
    "plt.ylabel('Частота')\n",
    "plt.grid(axis='y')\n",
    "\n",
    "plt.subplot(1, 2, 2)\n",
    "plt.hist(with_subscription_df['duration'], bins=30, color='lightgreen', edgecolor='black')\n",
    "plt.title('Распределение времени поездок (с подпиской)')\n",
    "plt.xlabel('Время, мин')\n",
    "plt.ylabel('Частота')\n",
    "plt.grid(axis='y')\n",
    "\n",
    "plt.tight_layout()\n",
    "plt.show()"
   ]
  },
  {
   "cell_type": "markdown",
   "id": "e1650268",
   "metadata": {},
   "source": [
    "<b>1. Распределение расстояния поездок (без подписки)</b>\n",
    "\n",
    "* Описание графика:\n",
    "\n",
    "* Ось X: Расстояние поездок в километрах.\n",
    "\n",
    "* Ось Y: Частота (количество поездок).\n",
    "\n",
    "* График: Гистограмма с 30 интервалами, которая показывает, как часто происходят поездки на определенное расстояние для пользователей без подписки.\n",
    "\n",
    "* Особенности: Виден пик в определенной области, что говорит о наиболее распространенном расстоянии поездок среди пользователей без подписки. \n",
    "\n",
    "* График позволяет увидеть, распределены ли расстояния равномерно или есть выраженные пики и спады."
   ]
  },
  {
   "cell_type": "markdown",
   "id": "0d7d1ab9",
   "metadata": {},
   "source": [
    "<b>2. Распределение расстояния поездок (с подпиской)</b>\n",
    "\n",
    "* Описание графика:\n",
    "* Ось X: Расстояние поездок в километрах.\n",
    "* Ось Y: Частота (количество поездок).\n",
    "* График: Гистограмма с 30 интервалами, показывающая частоту поездок на определенное расстояние для пользователей с подпиской.\n",
    "* Особенности: Показаны различия в паттернах поездок между пользователями с подпиской и без. Пики и спады на графике указывают на наиболее популярные расстояния для пользователей с подпиской."
   ]
  },
  {
   "cell_type": "markdown",
   "id": "d393814c",
   "metadata": {},
   "source": [
    "<b>3. Распределение времени поездок (без подписки)</b>\n",
    "\n",
    "* Описание графика:\n",
    "* Ось X: Время поездок в минутах.\n",
    "* Ось Y: Частота (количество поездок).\n",
    "* График: Гистограмма с 30 интервалами, показывающая частоту поездок разной продолжительности для пользователей без подписки.\n",
    "* Особенности: Определяются наиболее распространенные длительности поездок. Виден пик, указывающий на среднее время поездок среди этой группы пользователей."
   ]
  },
  {
   "cell_type": "markdown",
   "id": "d42be713",
   "metadata": {},
   "source": [
    "<b>4. Распределение времени поездок (с подпиской)</b>\n",
    "\n",
    "* Описание графика:\n",
    "* Ось X: Время поездок в минутах.\n",
    "* Ось Y: Частота (количество поездок).\n",
    "* График: Гистограмма с 30 интервалами, показывающая частоту поездок разной продолжительности для пользователей с подпиской.\n",
    "* Особенности: Показаны различия во времени поездок между пользователями с подпиской и без. Пики и спады на графике указывают на наиболее популярные длительности для пользователей с подпиской."
   ]
  },
  {
   "cell_type": "markdown",
   "id": "e508e8b6",
   "metadata": {},
   "source": [
    "#### Промежуточный вывод:"
   ]
  },
  {
   "cell_type": "markdown",
   "id": "022bb0b7",
   "metadata": {},
   "source": [
    "* Сравнение расстояний: Анализируя два графика распределения расстояний, можно определить, отличается ли поведение пользователей с подпиской и без в плане средних расстояний поездок. Важно отметить, где расположены пики и как распределены данные.\n",
    "* Сравнение времени: Аналогично для времени поездок, можно увидеть, как отличаются продолжительности поездок между двумя группами пользователей.\n",
    "* Общие тенденции: Наличие подписки может влиять на предпочтения и привычки пользователей, что важно учитывать при анализе данных и разработке стратегий маркетинга или улучшения сервиса."
   ]
  },
  {
   "cell_type": "markdown",
   "id": "402d620f",
   "metadata": {},
   "source": [
    "#### Шаг 5. Подсчёт выручки"
   ]
  },
  {
   "cell_type": "markdown",
   "id": "36b31cb3",
   "metadata": {},
   "source": [
    "Округление времени:"
   ]
  },
  {
   "cell_type": "code",
   "execution_count": 41,
   "id": "0e9cac3a",
   "metadata": {},
   "outputs": [],
   "source": [
    "merged_df['duration'] = np.ceil(merged_df['duration'])"
   ]
  },
  {
   "cell_type": "code",
   "execution_count": 42,
   "id": "53049e0a",
   "metadata": {},
   "outputs": [],
   "source": [
    "aggregated_df = merged_df.groupby(['user_id', 'month', 'subscription_type']).agg({\n",
    "    'distance': 'sum',\n",
    "    'duration': 'sum',\n",
    "    'user_id': 'count'\n",
    "}).rename(columns={'user_id': 'ride_count'}).reset_index()\n",
    "\n",
    "def calculate_monthly_revenue(row):\n",
    "    if row['subscription_type'] == 'ultra':\n",
    "        start_cost = 0\n",
    "        minute_cost = row['minute_price']\n",
    "        subscription_fee = row['subscription_fee']\n",
    "    else:\n",
    "        start_cost = row['start_ride_price']\n",
    "        minute_cost = row['minute_price']\n",
    "        subscription_fee = 0\n",
    "\n",
    "    total_duration_minutes = row['duration']\n",
    "    ride_count = row['ride_count']\n",
    "    revenue = start_cost * ride_count + total_duration_minutes * minute_cost + subscription_fee\n",
    "    \n",
    "    return revenue\n",
    "\n",
    "aggregated_df = aggregated_df.merge(subscriptions_df, on='subscription_type', how='left')"
   ]
  },
  {
   "cell_type": "markdown",
   "id": "c4c7ea79",
   "metadata": {},
   "source": [
    "Добавление столбца с помесячной выручкой:"
   ]
  },
  {
   "cell_type": "code",
   "execution_count": 43,
   "id": "993fa1aa",
   "metadata": {},
   "outputs": [],
   "source": [
    "aggregated_df['monthly_revenue'] = aggregated_df.apply(calculate_monthly_revenue, axis=1)"
   ]
  },
  {
   "cell_type": "markdown",
   "id": "f2196a6d",
   "metadata": {},
   "source": [
    "Агрегированные данные о поездках и выручке:"
   ]
  },
  {
   "cell_type": "code",
   "execution_count": 37,
   "id": "c098c189",
   "metadata": {
    "scrolled": true
   },
   "outputs": [
    {
     "data": {
      "text/html": [
       "<div>\n",
       "<style scoped>\n",
       "    .dataframe tbody tr th:only-of-type {\n",
       "        vertical-align: middle;\n",
       "    }\n",
       "\n",
       "    .dataframe tbody tr th {\n",
       "        vertical-align: top;\n",
       "    }\n",
       "\n",
       "    .dataframe thead th {\n",
       "        text-align: right;\n",
       "    }\n",
       "</style>\n",
       "<table border=\"1\" class=\"dataframe\">\n",
       "  <thead>\n",
       "    <tr style=\"text-align: right;\">\n",
       "      <th></th>\n",
       "      <th>user_id</th>\n",
       "      <th>month</th>\n",
       "      <th>subscription_type</th>\n",
       "      <th>distance</th>\n",
       "      <th>duration</th>\n",
       "      <th>ride_count</th>\n",
       "      <th>minute_price</th>\n",
       "      <th>start_ride_price</th>\n",
       "      <th>subscription_fee</th>\n",
       "      <th>monthly_revenue</th>\n",
       "    </tr>\n",
       "  </thead>\n",
       "  <tbody>\n",
       "    <tr>\n",
       "      <th>0</th>\n",
       "      <td>1</td>\n",
       "      <td>1</td>\n",
       "      <td>ultra</td>\n",
       "      <td>7027.511294</td>\n",
       "      <td>42.0</td>\n",
       "      <td>2</td>\n",
       "      <td>6</td>\n",
       "      <td>0</td>\n",
       "      <td>199</td>\n",
       "      <td>451.0</td>\n",
       "    </tr>\n",
       "    <tr>\n",
       "      <th>1</th>\n",
       "      <td>1</td>\n",
       "      <td>4</td>\n",
       "      <td>ultra</td>\n",
       "      <td>754.159807</td>\n",
       "      <td>7.0</td>\n",
       "      <td>1</td>\n",
       "      <td>6</td>\n",
       "      <td>0</td>\n",
       "      <td>199</td>\n",
       "      <td>241.0</td>\n",
       "    </tr>\n",
       "    <tr>\n",
       "      <th>2</th>\n",
       "      <td>1</td>\n",
       "      <td>8</td>\n",
       "      <td>ultra</td>\n",
       "      <td>6723.470560</td>\n",
       "      <td>46.0</td>\n",
       "      <td>2</td>\n",
       "      <td>6</td>\n",
       "      <td>0</td>\n",
       "      <td>199</td>\n",
       "      <td>475.0</td>\n",
       "    </tr>\n",
       "    <tr>\n",
       "      <th>3</th>\n",
       "      <td>1</td>\n",
       "      <td>10</td>\n",
       "      <td>ultra</td>\n",
       "      <td>5809.911100</td>\n",
       "      <td>32.0</td>\n",
       "      <td>2</td>\n",
       "      <td>6</td>\n",
       "      <td>0</td>\n",
       "      <td>199</td>\n",
       "      <td>391.0</td>\n",
       "    </tr>\n",
       "    <tr>\n",
       "      <th>4</th>\n",
       "      <td>1</td>\n",
       "      <td>11</td>\n",
       "      <td>ultra</td>\n",
       "      <td>7003.499363</td>\n",
       "      <td>56.0</td>\n",
       "      <td>3</td>\n",
       "      <td>6</td>\n",
       "      <td>0</td>\n",
       "      <td>199</td>\n",
       "      <td>535.0</td>\n",
       "    </tr>\n",
       "  </tbody>\n",
       "</table>\n",
       "</div>"
      ],
      "text/plain": [
       "   user_id  month subscription_type     distance  duration  ride_count  \\\n",
       "0        1      1             ultra  7027.511294      42.0           2   \n",
       "1        1      4             ultra   754.159807       7.0           1   \n",
       "2        1      8             ultra  6723.470560      46.0           2   \n",
       "3        1     10             ultra  5809.911100      32.0           2   \n",
       "4        1     11             ultra  7003.499363      56.0           3   \n",
       "\n",
       "   minute_price  start_ride_price  subscription_fee  monthly_revenue  \n",
       "0             6                 0               199            451.0  \n",
       "1             6                 0               199            241.0  \n",
       "2             6                 0               199            475.0  \n",
       "3             6                 0               199            391.0  \n",
       "4             6                 0               199            535.0  "
      ]
     },
     "metadata": {},
     "output_type": "display_data"
    }
   ],
   "source": [
    "display(aggregated_df.head())"
   ]
  },
  {
   "cell_type": "markdown",
   "id": "41545ac0",
   "metadata": {},
   "source": [
    "#### Шаг 6. Проверка гипотез"
   ]
  },
  {
   "cell_type": "markdown",
   "id": "7664bd82",
   "metadata": {},
   "source": [
    "* Нулевая гипотеза (H₀): Среднее время поездок для пользователей с подпиской не больше, чем для пользователей без подписки.\n",
    "* Альтернативная гипотеза (H₁): Среднее время поездок для пользователей с подпиской больше, чем для пользователей без подписки."
   ]
  },
  {
   "cell_type": "code",
   "execution_count": 38,
   "id": "87ed1044",
   "metadata": {},
   "outputs": [
    {
     "name": "stdout",
     "output_type": "stream",
     "text": [
      "T-статистика: 12.624854943926593, p-значение: 1.1814679253701353e-36\n"
     ]
    }
   ],
   "source": [
    "no_subscription_durations = merged_df[merged_df['subscription_type'] == 'free']['duration']\n",
    "subscription_durations = merged_df[merged_df['subscription_type'] == 'ultra']['duration']\n",
    "t_stat, p_value = stats.ttest_ind(subscription_durations, no_subscription_durations, equal_var=False, alternative='greater')\n",
    "print(f\"T-статистика: {t_stat}, p-значение: {p_value}\")"
   ]
  },
  {
   "cell_type": "markdown",
   "id": "9224f3b6",
   "metadata": {},
   "source": [
    "* Нулевая гипотеза (H₀): Среднее расстояние поездок для пользователей с подпиской не больше 3130.\n",
    "* Альтернативная гипотеза (H₁): Среднее расстояние поездок для пользователей с подпиской больше 3130."
   ]
  },
  {
   "cell_type": "code",
   "execution_count": 39,
   "id": "67f5f50d",
   "metadata": {},
   "outputs": [
    {
     "name": "stdout",
     "output_type": "stream",
     "text": [
      "Z-статистика: -1.402123166869486, p-значение: 0.9195368847849785\n"
     ]
    }
   ],
   "source": [
    "subscription_distances = merged_df[merged_df['subscription_type'] == 'ultra']['distance']\n",
    "mean_distance = 3130\n",
    "\n",
    "z_score, p_value = stats.ttest_1samp(subscription_distances, mean_distance, alternative='greater')\n",
    "print(f\"Z-статистика: {z_score}, p-значение: {p_value}\")"
   ]
  },
  {
   "cell_type": "markdown",
   "id": "2d5839b4",
   "metadata": {},
   "source": [
    "* Нулевая гипотеза (H₀): Средняя месячная выручка от пользователей с подпиской не больше, чем от пользователей без подписки.\n",
    "* Альтернативная гипотеза (H₁): Средняя месячная выручка от пользователей с подпиской больше, чем от пользователей без подписки."
   ]
  },
  {
   "cell_type": "code",
   "execution_count": 40,
   "id": "4c030553",
   "metadata": {},
   "outputs": [
    {
     "name": "stdout",
     "output_type": "stream",
     "text": [
      "T-статистика: 13.201754888325674, p-значение: 8.874140893976874e-40\n"
     ]
    }
   ],
   "source": [
    "revenue_no_subscription = aggregated_df[aggregated_df['subscription_type'] == 'free']['monthly_revenue']\n",
    "revenue_subscription = aggregated_df[aggregated_df['subscription_type'] == 'ultra']['monthly_revenue']\n",
    "\n",
    "t_stat, p_value = stats.ttest_ind(revenue_subscription, revenue_no_subscription, equal_var=False, alternative='greater')\n",
    "print(f\"T-статистика: {t_stat}, p-значение: {p_value}\")"
   ]
  },
  {
   "cell_type": "markdown",
   "id": "91fd9ece",
   "metadata": {},
   "source": [
    "<b>Вывод по гипотезам:</b>"
   ]
  },
  {
   "cell_type": "markdown",
   "id": "6a22b4f3",
   "metadata": {},
   "source": [
    "1. Среднее время поездок для пользователей с подпиской и без подписки\n",
    "\n",
    "* <b>Вывод:</b> p-значение значительно меньше уровня значимости (обычно 0.05), что позволяет отвергнуть нулевую гипотезу в пользу альтернативной. Таким образом, можно утверждать, что среднее время поездок для пользователей с подпиской больше, чем для пользователей без подписки."
   ]
  },
  {
   "cell_type": "markdown",
   "id": "ebff901f",
   "metadata": {},
   "source": [
    "2. Среднее расстояние поездок для пользователей с подпиской\n",
    "    \n",
    "* <b>Вывод:</b> p-значение значительно больше уровня значимости (обычно 0.05), что не позволяет отвергнуть нулевую гипотезу. Таким образом, нет оснований утверждать, что среднее расстояние поездок для пользователей с подпиской больше 3130."
   ]
  },
  {
   "cell_type": "markdown",
   "id": "9f019c41",
   "metadata": {},
   "source": [
    "3. Средняя месячная выручка от пользователей с подпиской и без подписки\n",
    "\n",
    "* <b>Вывод:</b> p-значение значительно меньше уровня значимости (обычно 0.05), что позволяет отвергнуть нулевую гипотезу в пользу альтернативной. Таким образом, можно утверждать, что средняя месячная выручка от пользователей с подпиской больше, чем от пользователей без подписки."
   ]
  },
  {
   "cell_type": "markdown",
   "id": "d23079bf",
   "metadata": {},
   "source": [
    "<b>Рекомендации:</b>"
   ]
  },
  {
   "cell_type": "markdown",
   "id": "070c981e",
   "metadata": {},
   "source": [
    "1. Стимулировать использование подписок: Учитывая значимую разницу во времени поездок между пользователями с подпиской и без неё, компания может активнее продвигать свои подписочные предложения. Это может включать скидки на подписки, предложения бонусов или удобства для подписчиков.\n",
    "\n",
    "2. Оптимизировать ценообразование для расстояний: Хотя среднее расстояние поездок для пользователей с подпиской не отличается от заданного значения (3130), можно провести дополнительные исследования, чтобы понять, какие факторы влияют на предпочтения пользователей. Возможно, стоит разработать гибкие тарифные планы или дополнительные услуги для удовлетворения разнообразных потребностей клиентов.\n",
    "\n",
    "3. Максимизировать выручку с подписчиков: Так как выручка от пользователей с подпиской значительно выше, чем от пользователей без подписки, компания может сосредоточить усилия на удержании подписчиков и стимулировании их к повышенному использованию услуг. Это может включать персонализированные предложения, улучшенный сервис или дополнительные возможности доступа.\n",
    "\n",
    "4. Каждая из этих рекомендаций направлена на оптимизацию бизнес-процессов и увеличение общей прибыли компании за счёт более эффективного использования данных о поведении клиентов."
   ]
  }
 ],
 "metadata": {
  "ExecuteTimeLog": [
   {
    "duration": 42,
    "start_time": "2024-06-30T19:12:17.115Z"
   },
   {
    "duration": 357,
    "start_time": "2024-06-30T19:12:20.316Z"
   },
   {
    "duration": 204,
    "start_time": "2024-06-30T19:12:22.700Z"
   },
   {
    "duration": 14,
    "start_time": "2024-06-30T19:12:46.352Z"
   },
   {
    "duration": 6,
    "start_time": "2024-06-30T19:13:35.519Z"
   },
   {
    "duration": 4,
    "start_time": "2024-06-30T19:14:52.635Z"
   },
   {
    "duration": 20,
    "start_time": "2024-06-30T19:15:32.934Z"
   },
   {
    "duration": 12,
    "start_time": "2024-06-30T19:16:12.690Z"
   },
   {
    "duration": 12,
    "start_time": "2024-06-30T19:16:17.178Z"
   },
   {
    "duration": 11,
    "start_time": "2024-06-30T19:16:35.422Z"
   },
   {
    "duration": 18,
    "start_time": "2024-06-30T19:18:24.204Z"
   },
   {
    "duration": 13,
    "start_time": "2024-06-30T19:18:41.304Z"
   },
   {
    "duration": 6,
    "start_time": "2024-06-30T19:19:56.838Z"
   },
   {
    "duration": 25,
    "start_time": "2024-06-30T19:21:12.834Z"
   },
   {
    "duration": 4,
    "start_time": "2024-06-30T19:21:15.709Z"
   },
   {
    "duration": 6,
    "start_time": "2024-06-30T19:21:16.953Z"
   },
   {
    "duration": 7,
    "start_time": "2024-06-30T19:21:47.930Z"
   },
   {
    "duration": 7,
    "start_time": "2024-06-30T19:21:56.309Z"
   },
   {
    "duration": 2,
    "start_time": "2024-06-30T19:22:23.592Z"
   },
   {
    "duration": 390,
    "start_time": "2024-06-30T19:22:28.991Z"
   },
   {
    "duration": 67,
    "start_time": "2024-06-30T19:22:31.524Z"
   },
   {
    "duration": 10,
    "start_time": "2024-06-30T19:22:31.700Z"
   },
   {
    "duration": 7,
    "start_time": "2024-06-30T19:22:32.551Z"
   },
   {
    "duration": 4,
    "start_time": "2024-06-30T19:22:33.332Z"
   },
   {
    "duration": 15,
    "start_time": "2024-06-30T19:22:34.592Z"
   },
   {
    "duration": 5,
    "start_time": "2024-06-30T19:22:37.960Z"
   },
   {
    "duration": 351,
    "start_time": "2024-06-30T19:22:40.816Z"
   },
   {
    "duration": 5,
    "start_time": "2024-06-30T19:23:25.695Z"
   },
   {
    "duration": 7,
    "start_time": "2024-06-30T19:23:50.275Z"
   },
   {
    "duration": 93,
    "start_time": "2024-06-30T19:24:54.746Z"
   },
   {
    "duration": 6,
    "start_time": "2024-06-30T19:26:19.269Z"
   },
   {
    "duration": 272,
    "start_time": "2024-06-30T19:27:13.389Z"
   },
   {
    "duration": 282,
    "start_time": "2024-06-30T19:27:46.285Z"
   },
   {
    "duration": 10,
    "start_time": "2024-06-30T19:28:53.207Z"
   },
   {
    "duration": 9,
    "start_time": "2024-06-30T19:29:01.079Z"
   },
   {
    "duration": 18,
    "start_time": "2024-06-30T19:29:31.227Z"
   },
   {
    "duration": 20,
    "start_time": "2024-06-30T19:29:40.815Z"
   },
   {
    "duration": 13,
    "start_time": "2024-06-30T19:29:50.255Z"
   },
   {
    "duration": 9,
    "start_time": "2024-06-30T19:30:03.351Z"
   },
   {
    "duration": 310,
    "start_time": "2024-06-30T19:31:13.069Z"
   },
   {
    "duration": 295,
    "start_time": "2024-06-30T19:31:14.485Z"
   },
   {
    "duration": 455,
    "start_time": "2024-06-30T19:32:09.781Z"
   },
   {
    "duration": 407,
    "start_time": "2024-06-30T19:33:13.432Z"
   },
   {
    "duration": 292,
    "start_time": "2024-06-30T19:33:24.312Z"
   },
   {
    "duration": 13,
    "start_time": "2024-06-30T19:34:04.168Z"
   },
   {
    "duration": 5,
    "start_time": "2024-06-30T19:34:10.128Z"
   },
   {
    "duration": 236,
    "start_time": "2024-06-30T19:34:12.920Z"
   },
   {
    "duration": 70,
    "start_time": "2024-06-30T19:34:34.999Z"
   },
   {
    "duration": 80,
    "start_time": "2024-06-30T19:34:46.191Z"
   },
   {
    "duration": 128,
    "start_time": "2024-06-30T19:34:54.655Z"
   },
   {
    "duration": 72,
    "start_time": "2024-06-30T19:35:12.904Z"
   },
   {
    "duration": 72,
    "start_time": "2024-06-30T19:35:26.033Z"
   },
   {
    "duration": 70,
    "start_time": "2024-06-30T19:35:36.502Z"
   },
   {
    "duration": 72,
    "start_time": "2024-06-30T19:35:43.731Z"
   },
   {
    "duration": 240,
    "start_time": "2024-06-30T19:37:17.373Z"
   },
   {
    "duration": 70,
    "start_time": "2024-06-30T19:37:45.064Z"
   },
   {
    "duration": 243,
    "start_time": "2024-06-30T19:38:00.992Z"
   },
   {
    "duration": 6,
    "start_time": "2024-06-30T19:38:27.452Z"
   },
   {
    "duration": 8,
    "start_time": "2024-06-30T19:38:53.699Z"
   },
   {
    "duration": 9,
    "start_time": "2024-06-30T19:39:09.007Z"
   },
   {
    "duration": 4,
    "start_time": "2024-06-30T19:39:10.019Z"
   },
   {
    "duration": 9,
    "start_time": "2024-06-30T19:39:28.354Z"
   },
   {
    "duration": 9,
    "start_time": "2024-06-30T19:39:44.167Z"
   },
   {
    "duration": 9,
    "start_time": "2024-06-30T19:40:03.974Z"
   },
   {
    "duration": 292,
    "start_time": "2024-06-30T19:40:04.690Z"
   },
   {
    "duration": 298,
    "start_time": "2024-06-30T19:40:07.782Z"
   },
   {
    "duration": 14,
    "start_time": "2024-06-30T19:40:50.662Z"
   },
   {
    "duration": 8,
    "start_time": "2024-06-30T19:41:10.527Z"
   },
   {
    "duration": 8,
    "start_time": "2024-06-30T19:41:32.546Z"
   },
   {
    "duration": 8,
    "start_time": "2024-06-30T19:42:34.887Z"
   },
   {
    "duration": 10,
    "start_time": "2024-06-30T19:42:37.915Z"
   },
   {
    "duration": 2,
    "start_time": "2024-06-30T19:43:09.107Z"
   },
   {
    "duration": 51,
    "start_time": "2024-07-01T16:49:39.827Z"
   },
   {
    "duration": 8,
    "start_time": "2024-07-01T16:50:00.961Z"
   },
   {
    "duration": 12,
    "start_time": "2024-07-01T16:50:03.055Z"
   },
   {
    "duration": 381,
    "start_time": "2024-07-01T16:50:09.687Z"
   },
   {
    "duration": 370,
    "start_time": "2024-07-01T16:50:10.069Z"
   },
   {
    "duration": 2,
    "start_time": "2024-07-01T16:50:10.441Z"
   },
   {
    "duration": 198,
    "start_time": "2024-07-01T16:50:10.466Z"
   },
   {
    "duration": 10,
    "start_time": "2024-07-01T16:50:10.666Z"
   },
   {
    "duration": 7,
    "start_time": "2024-07-01T16:50:11.158Z"
   },
   {
    "duration": 5,
    "start_time": "2024-07-01T16:50:11.502Z"
   },
   {
    "duration": 17,
    "start_time": "2024-07-01T16:50:13.874Z"
   },
   {
    "duration": 4,
    "start_time": "2024-07-01T16:50:15.726Z"
   },
   {
    "duration": 366,
    "start_time": "2024-07-01T16:50:17.203Z"
   },
   {
    "duration": 6,
    "start_time": "2024-07-01T16:50:18.595Z"
   },
   {
    "duration": 215,
    "start_time": "2024-07-01T16:50:19.794Z"
   },
   {
    "duration": 7,
    "start_time": "2024-07-01T16:50:20.830Z"
   },
   {
    "duration": 262,
    "start_time": "2024-07-01T16:50:21.874Z"
   },
   {
    "duration": 11,
    "start_time": "2024-07-01T16:50:23.166Z"
   },
   {
    "duration": 339,
    "start_time": "2024-07-01T16:50:23.831Z"
   },
   {
    "duration": 381,
    "start_time": "2024-07-01T16:50:24.336Z"
   },
   {
    "duration": 14,
    "start_time": "2024-07-01T16:50:26.114Z"
   },
   {
    "duration": 10,
    "start_time": "2024-07-01T16:50:26.690Z"
   },
   {
    "duration": 1091,
    "start_time": "2024-07-01T16:50:28.131Z"
   },
   {
    "duration": 199,
    "start_time": "2024-07-01T16:53:24.674Z"
   },
   {
    "duration": 203,
    "start_time": "2024-07-01T16:55:56.562Z"
   },
   {
    "duration": 200,
    "start_time": "2024-07-01T16:56:18.586Z"
   },
   {
    "duration": 189,
    "start_time": "2024-07-01T16:56:37.317Z"
   },
   {
    "duration": 8,
    "start_time": "2024-07-01T16:57:20.619Z"
   },
   {
    "duration": 198,
    "start_time": "2024-07-01T16:57:23.652Z"
   },
   {
    "duration": 8,
    "start_time": "2024-07-01T16:57:25.624Z"
   },
   {
    "duration": 7,
    "start_time": "2024-07-01T16:57:39.460Z"
   },
   {
    "duration": 404,
    "start_time": "2024-07-01T16:58:34.367Z"
   },
   {
    "duration": 611,
    "start_time": "2024-07-01T16:58:47.254Z"
   },
   {
    "duration": 191,
    "start_time": "2024-07-01T16:58:48.476Z"
   },
   {
    "duration": 198,
    "start_time": "2024-07-01T16:58:48.669Z"
   },
   {
    "duration": 3,
    "start_time": "2024-07-01T16:58:48.869Z"
   },
   {
    "duration": 49,
    "start_time": "2024-07-01T16:58:48.874Z"
   },
   {
    "duration": 143,
    "start_time": "2024-07-01T16:58:48.925Z"
   },
   {
    "duration": 14,
    "start_time": "2024-07-01T16:58:49.070Z"
   },
   {
    "duration": 9,
    "start_time": "2024-07-01T16:58:49.086Z"
   },
   {
    "duration": 5,
    "start_time": "2024-07-01T16:58:49.097Z"
   },
   {
    "duration": 17,
    "start_time": "2024-07-01T16:58:49.103Z"
   },
   {
    "duration": 4,
    "start_time": "2024-07-01T16:58:49.122Z"
   },
   {
    "duration": 313,
    "start_time": "2024-07-01T16:58:49.128Z"
   },
   {
    "duration": 6,
    "start_time": "2024-07-01T16:58:49.443Z"
   },
   {
    "duration": 259,
    "start_time": "2024-07-01T16:58:49.450Z"
   },
   {
    "duration": 7,
    "start_time": "2024-07-01T16:58:49.711Z"
   },
   {
    "duration": 333,
    "start_time": "2024-07-01T16:58:49.719Z"
   },
   {
    "duration": 19,
    "start_time": "2024-07-01T16:58:50.053Z"
   },
   {
    "duration": 368,
    "start_time": "2024-07-01T16:58:50.073Z"
   },
   {
    "duration": 324,
    "start_time": "2024-07-01T16:58:50.443Z"
   },
   {
    "duration": 15,
    "start_time": "2024-07-01T16:58:50.768Z"
   },
   {
    "duration": 12,
    "start_time": "2024-07-01T16:58:50.784Z"
   },
   {
    "duration": 215,
    "start_time": "2024-07-01T16:58:50.798Z"
   },
   {
    "duration": 6,
    "start_time": "2024-07-01T16:58:51.015Z"
   },
   {
    "duration": 89,
    "start_time": "2024-07-01T17:04:19.999Z"
   },
   {
    "duration": 9,
    "start_time": "2024-07-01T17:04:23.891Z"
   },
   {
    "duration": 6,
    "start_time": "2024-07-01T17:04:24.446Z"
   },
   {
    "duration": 6,
    "start_time": "2024-07-01T17:04:51.246Z"
   },
   {
    "duration": 210,
    "start_time": "2024-07-01T17:49:37.446Z"
   },
   {
    "duration": 5,
    "start_time": "2024-07-01T17:51:41.551Z"
   },
   {
    "duration": 10,
    "start_time": "2024-07-01T17:52:38.113Z"
   },
   {
    "duration": 8,
    "start_time": "2024-07-01T17:55:03.904Z"
   },
   {
    "duration": 10,
    "start_time": "2024-07-01T17:56:06.923Z"
   },
   {
    "duration": 10,
    "start_time": "2024-07-01T17:56:56.153Z"
   },
   {
    "duration": 11,
    "start_time": "2024-07-01T17:57:00.693Z"
   },
   {
    "duration": 2,
    "start_time": "2024-07-01T17:59:09.137Z"
   },
   {
    "duration": 3,
    "start_time": "2024-07-01T17:59:09.627Z"
   },
   {
    "duration": 10,
    "start_time": "2024-07-01T18:02:59.513Z"
   },
   {
    "duration": 23,
    "start_time": "2024-07-01T18:09:49.267Z"
   },
   {
    "duration": 8,
    "start_time": "2024-07-01T18:16:28.162Z"
   },
   {
    "duration": 6,
    "start_time": "2024-07-01T18:16:28.581Z"
   },
   {
    "duration": 7,
    "start_time": "2024-07-01T18:16:29.653Z"
   },
   {
    "duration": 277,
    "start_time": "2024-07-01T18:22:14.706Z"
   },
   {
    "duration": 5,
    "start_time": "2024-07-01T18:22:38.448Z"
   },
   {
    "duration": 380,
    "start_time": "2024-07-01T20:07:50.468Z"
   },
   {
    "duration": 228,
    "start_time": "2024-07-01T20:07:50.849Z"
   },
   {
    "duration": 2,
    "start_time": "2024-07-01T20:07:51.078Z"
   },
   {
    "duration": 396,
    "start_time": "2024-07-01T20:07:51.082Z"
   },
   {
    "duration": 62,
    "start_time": "2024-07-01T20:07:51.481Z"
   },
   {
    "duration": 9,
    "start_time": "2024-07-01T20:07:51.544Z"
   },
   {
    "duration": 11,
    "start_time": "2024-07-01T20:07:51.554Z"
   },
   {
    "duration": 8,
    "start_time": "2024-07-01T20:07:51.566Z"
   },
   {
    "duration": 27,
    "start_time": "2024-07-01T20:07:51.575Z"
   },
   {
    "duration": 7,
    "start_time": "2024-07-01T20:07:51.603Z"
   },
   {
    "duration": 294,
    "start_time": "2024-07-01T20:07:51.612Z"
   },
   {
    "duration": 5,
    "start_time": "2024-07-01T20:07:51.907Z"
   },
   {
    "duration": 194,
    "start_time": "2024-07-01T20:07:51.914Z"
   },
   {
    "duration": 6,
    "start_time": "2024-07-01T20:07:52.110Z"
   },
   {
    "duration": 301,
    "start_time": "2024-07-01T20:07:52.117Z"
   },
   {
    "duration": 9,
    "start_time": "2024-07-01T20:07:52.419Z"
   },
   {
    "duration": 330,
    "start_time": "2024-07-01T20:07:52.430Z"
   },
   {
    "duration": 320,
    "start_time": "2024-07-01T20:07:52.761Z"
   },
   {
    "duration": 12,
    "start_time": "2024-07-01T20:07:53.082Z"
   },
   {
    "duration": 23,
    "start_time": "2024-07-01T20:07:53.095Z"
   },
   {
    "duration": 18,
    "start_time": "2024-07-01T20:07:53.119Z"
   },
   {
    "duration": 175,
    "start_time": "2024-07-01T20:07:53.139Z"
   },
   {
    "duration": 6,
    "start_time": "2024-07-01T20:07:53.315Z"
   },
   {
    "duration": 15,
    "start_time": "2024-07-01T20:07:53.322Z"
   },
   {
    "duration": 5,
    "start_time": "2024-07-01T20:07:53.338Z"
   },
   {
    "duration": 14,
    "start_time": "2024-07-01T20:07:53.344Z"
   },
   {
    "duration": 15,
    "start_time": "2024-07-01T20:07:53.360Z"
   },
   {
    "duration": 51,
    "start_time": "2024-07-02T15:39:59.660Z"
   },
   {
    "duration": 6,
    "start_time": "2024-07-02T15:40:02.730Z"
   },
   {
    "duration": 432,
    "start_time": "2024-07-02T15:40:10.023Z"
   },
   {
    "duration": 438,
    "start_time": "2024-07-02T15:40:10.458Z"
   },
   {
    "duration": 3,
    "start_time": "2024-07-02T15:40:10.898Z"
   },
   {
    "duration": 534,
    "start_time": "2024-07-02T15:40:10.902Z"
   },
   {
    "duration": 205,
    "start_time": "2024-07-02T15:40:11.438Z"
   },
   {
    "duration": 12,
    "start_time": "2024-07-02T15:40:11.645Z"
   },
   {
    "duration": 20,
    "start_time": "2024-07-02T15:40:11.659Z"
   },
   {
    "duration": 11,
    "start_time": "2024-07-02T15:40:11.681Z"
   },
   {
    "duration": 26,
    "start_time": "2024-07-02T15:40:11.694Z"
   },
   {
    "duration": 33,
    "start_time": "2024-07-02T15:40:11.722Z"
   },
   {
    "duration": 6,
    "start_time": "2024-07-02T15:40:11.757Z"
   },
   {
    "duration": 414,
    "start_time": "2024-07-02T15:40:11.765Z"
   },
   {
    "duration": 7,
    "start_time": "2024-07-02T15:40:12.180Z"
   },
   {
    "duration": 314,
    "start_time": "2024-07-02T15:40:12.190Z"
   },
   {
    "duration": 8,
    "start_time": "2024-07-02T15:40:12.506Z"
   },
   {
    "duration": 333,
    "start_time": "2024-07-02T15:40:12.515Z"
   },
   {
    "duration": 12,
    "start_time": "2024-07-02T15:40:12.849Z"
   },
   {
    "duration": 418,
    "start_time": "2024-07-02T15:40:12.862Z"
   },
   {
    "duration": 399,
    "start_time": "2024-07-02T15:40:13.282Z"
   },
   {
    "duration": 16,
    "start_time": "2024-07-02T15:40:13.682Z"
   },
   {
    "duration": 12,
    "start_time": "2024-07-02T15:40:13.699Z"
   },
   {
    "duration": 48,
    "start_time": "2024-07-02T15:40:13.713Z"
   },
   {
    "duration": 211,
    "start_time": "2024-07-02T15:40:13.763Z"
   },
   {
    "duration": 7,
    "start_time": "2024-07-02T15:40:13.976Z"
   },
   {
    "duration": 16,
    "start_time": "2024-07-02T15:40:13.984Z"
   },
   {
    "duration": 4,
    "start_time": "2024-07-02T15:40:14.002Z"
   },
   {
    "duration": 10,
    "start_time": "2024-07-02T15:40:14.008Z"
   },
   {
    "duration": 27,
    "start_time": "2024-07-02T15:40:14.019Z"
   },
   {
    "duration": 18,
    "start_time": "2024-07-02T15:41:26.192Z"
   },
   {
    "duration": 28,
    "start_time": "2024-07-02T15:46:38.996Z"
   },
   {
    "duration": 21,
    "start_time": "2024-07-02T15:47:02.338Z"
   },
   {
    "duration": 25,
    "start_time": "2024-07-02T15:47:24.280Z"
   },
   {
    "duration": 25,
    "start_time": "2024-07-02T15:48:26.244Z"
   },
   {
    "duration": 25,
    "start_time": "2024-07-02T15:48:30.182Z"
   },
   {
    "duration": 29,
    "start_time": "2024-07-02T15:48:35.540Z"
   },
   {
    "duration": 27,
    "start_time": "2024-07-02T15:48:41.644Z"
   },
   {
    "duration": 71,
    "start_time": "2024-07-02T15:57:41.644Z"
   },
   {
    "duration": 2,
    "start_time": "2024-07-02T15:58:32.759Z"
   },
   {
    "duration": 3,
    "start_time": "2024-07-02T15:58:41.814Z"
   },
   {
    "duration": 4,
    "start_time": "2024-07-02T15:59:07.951Z"
   },
   {
    "duration": 5,
    "start_time": "2024-07-02T15:59:15.998Z"
   },
   {
    "duration": 8,
    "start_time": "2024-07-02T16:00:06.895Z"
   },
   {
    "duration": 11,
    "start_time": "2024-07-02T16:00:45.565Z"
   },
   {
    "duration": 50,
    "start_time": "2024-07-03T15:35:51.079Z"
   },
   {
    "duration": 408,
    "start_time": "2024-07-03T15:35:55.519Z"
   },
   {
    "duration": 389,
    "start_time": "2024-07-03T15:35:55.928Z"
   },
   {
    "duration": 3,
    "start_time": "2024-07-03T15:35:56.319Z"
   },
   {
    "duration": 447,
    "start_time": "2024-07-03T15:35:56.323Z"
   },
   {
    "duration": 323,
    "start_time": "2024-07-03T15:35:56.772Z"
   },
   {
    "duration": 2,
    "start_time": "2024-07-03T15:35:57.097Z"
   },
   {
    "duration": 49,
    "start_time": "2024-07-03T15:35:57.102Z"
   },
   {
    "duration": 23,
    "start_time": "2024-07-03T15:35:57.152Z"
   },
   {
    "duration": 2,
    "start_time": "2024-07-03T15:35:57.177Z"
   },
   {
    "duration": 2,
    "start_time": "2024-07-03T15:35:57.182Z"
   },
   {
    "duration": 12,
    "start_time": "2024-07-03T15:35:57.186Z"
   },
   {
    "duration": 4,
    "start_time": "2024-07-03T15:35:57.200Z"
   },
   {
    "duration": 19,
    "start_time": "2024-07-03T15:35:57.206Z"
   },
   {
    "duration": 8,
    "start_time": "2024-07-03T15:35:57.228Z"
   },
   {
    "duration": 17,
    "start_time": "2024-07-03T15:35:57.238Z"
   },
   {
    "duration": 4,
    "start_time": "2024-07-03T15:35:57.257Z"
   },
   {
    "duration": 357,
    "start_time": "2024-07-03T15:35:57.263Z"
   },
   {
    "duration": 6,
    "start_time": "2024-07-03T15:35:57.622Z"
   },
   {
    "duration": 232,
    "start_time": "2024-07-03T15:35:57.630Z"
   },
   {
    "duration": 6,
    "start_time": "2024-07-03T15:35:57.864Z"
   },
   {
    "duration": 309,
    "start_time": "2024-07-03T15:35:57.872Z"
   },
   {
    "duration": 10,
    "start_time": "2024-07-03T15:35:58.183Z"
   },
   {
    "duration": 335,
    "start_time": "2024-07-03T15:35:58.194Z"
   },
   {
    "duration": 324,
    "start_time": "2024-07-03T15:35:58.531Z"
   },
   {
    "duration": 15,
    "start_time": "2024-07-03T15:35:58.856Z"
   },
   {
    "duration": 10,
    "start_time": "2024-07-03T15:35:58.873Z"
   },
   {
    "duration": 34,
    "start_time": "2024-07-03T15:35:58.884Z"
   },
   {
    "duration": 202,
    "start_time": "2024-07-03T15:35:58.919Z"
   },
   {
    "duration": 5,
    "start_time": "2024-07-03T15:35:59.123Z"
   },
   {
    "duration": 51,
    "start_time": "2024-07-03T15:35:59.129Z"
   },
   {
    "duration": 4,
    "start_time": "2024-07-03T15:35:59.181Z"
   },
   {
    "duration": 7,
    "start_time": "2024-07-03T15:35:59.186Z"
   },
   {
    "duration": 13,
    "start_time": "2024-07-03T15:35:59.194Z"
   },
   {
    "duration": 10,
    "start_time": "2024-07-03T15:42:01.527Z"
   },
   {
    "duration": 14,
    "start_time": "2024-07-03T15:42:04.364Z"
   },
   {
    "duration": 11,
    "start_time": "2024-07-03T15:42:52.826Z"
   },
   {
    "duration": 5,
    "start_time": "2024-07-03T15:43:13.638Z"
   },
   {
    "duration": 52,
    "start_time": "2024-07-03T15:45:34.544Z"
   },
   {
    "duration": 56,
    "start_time": "2024-07-03T15:46:06.607Z"
   },
   {
    "duration": 52,
    "start_time": "2024-07-03T15:46:21.591Z"
   },
   {
    "duration": 46,
    "start_time": "2024-07-03T15:47:23.111Z"
   },
   {
    "duration": 43,
    "start_time": "2024-07-03T15:47:31.951Z"
   },
   {
    "duration": 44,
    "start_time": "2024-07-03T15:47:58.446Z"
   },
   {
    "duration": 4,
    "start_time": "2024-07-03T15:48:55.729Z"
   },
   {
    "duration": 266,
    "start_time": "2024-07-03T15:48:57.305Z"
   },
   {
    "duration": 44,
    "start_time": "2024-07-03T16:02:57.509Z"
   },
   {
    "duration": 51,
    "start_time": "2024-07-03T16:03:32.370Z"
   },
   {
    "duration": 32,
    "start_time": "2024-07-03T16:03:32.764Z"
   },
   {
    "duration": 8,
    "start_time": "2024-07-03T16:03:37.140Z"
   },
   {
    "duration": 7,
    "start_time": "2024-07-03T16:03:49.728Z"
   },
   {
    "duration": 10,
    "start_time": "2024-07-03T16:04:00.625Z"
   },
   {
    "duration": 2,
    "start_time": "2024-07-03T16:04:27.816Z"
   },
   {
    "duration": 5,
    "start_time": "2024-07-03T16:06:28.911Z"
   },
   {
    "duration": 5,
    "start_time": "2024-07-03T16:06:31.702Z"
   },
   {
    "duration": 1038,
    "start_time": "2024-07-03T16:07:19.090Z"
   },
   {
    "duration": 820,
    "start_time": "2024-07-03T16:08:04.874Z"
   },
   {
    "duration": 647,
    "start_time": "2024-07-03T16:08:10.946Z"
   },
   {
    "duration": 973,
    "start_time": "2024-07-03T16:08:33.914Z"
   },
   {
    "duration": 60,
    "start_time": "2024-07-03T16:10:26.116Z"
   },
   {
    "duration": 1061,
    "start_time": "2024-07-03T16:10:39.596Z"
   },
   {
    "duration": 7,
    "start_time": "2024-07-03T16:11:13.646Z"
   },
   {
    "duration": 4,
    "start_time": "2024-07-03T16:11:21.275Z"
   },
   {
    "duration": 5,
    "start_time": "2024-07-03T16:11:55.175Z"
   },
   {
    "duration": 4,
    "start_time": "2024-07-03T16:11:57.250Z"
   },
   {
    "duration": 3,
    "start_time": "2024-07-03T16:12:11.122Z"
   },
   {
    "duration": 11,
    "start_time": "2024-07-03T16:14:02.480Z"
   },
   {
    "duration": 8,
    "start_time": "2024-07-03T16:14:38.244Z"
   },
   {
    "duration": 17,
    "start_time": "2024-07-03T16:14:39.731Z"
   },
   {
    "duration": 3,
    "start_time": "2024-07-03T16:14:46.563Z"
   },
   {
    "duration": 10,
    "start_time": "2024-07-03T16:14:47.599Z"
   },
   {
    "duration": 7,
    "start_time": "2024-07-03T16:14:48.896Z"
   },
   {
    "duration": 3,
    "start_time": "2024-07-03T16:14:49.865Z"
   },
   {
    "duration": 6,
    "start_time": "2024-07-03T16:16:47.631Z"
   },
   {
    "duration": 4,
    "start_time": "2024-07-03T16:16:48.258Z"
   },
   {
    "duration": 372,
    "start_time": "2024-07-03T16:16:54.171Z"
   },
   {
    "duration": 218,
    "start_time": "2024-07-03T16:16:54.545Z"
   },
   {
    "duration": 3,
    "start_time": "2024-07-03T16:16:54.764Z"
   },
   {
    "duration": 464,
    "start_time": "2024-07-03T16:16:54.770Z"
   },
   {
    "duration": 67,
    "start_time": "2024-07-03T16:16:55.235Z"
   },
   {
    "duration": 2,
    "start_time": "2024-07-03T16:16:55.304Z"
   },
   {
    "duration": 49,
    "start_time": "2024-07-03T16:16:55.307Z"
   },
   {
    "duration": 87,
    "start_time": "2024-07-03T16:16:55.357Z"
   },
   {
    "duration": 3,
    "start_time": "2024-07-03T16:16:55.447Z"
   },
   {
    "duration": 8,
    "start_time": "2024-07-03T16:16:55.454Z"
   },
   {
    "duration": 14,
    "start_time": "2024-07-03T16:16:55.464Z"
   },
   {
    "duration": 4,
    "start_time": "2024-07-03T16:16:55.480Z"
   },
   {
    "duration": 16,
    "start_time": "2024-07-03T16:16:55.486Z"
   },
   {
    "duration": 8,
    "start_time": "2024-07-03T16:16:55.519Z"
   },
   {
    "duration": 18,
    "start_time": "2024-07-03T16:16:55.529Z"
   },
   {
    "duration": 8,
    "start_time": "2024-07-03T16:16:55.549Z"
   },
   {
    "duration": 14,
    "start_time": "2024-07-03T16:16:55.558Z"
   },
   {
    "duration": 84,
    "start_time": "2024-07-03T16:16:55.574Z"
   },
   {
    "duration": 5,
    "start_time": "2024-07-03T16:16:55.660Z"
   },
   {
    "duration": 326,
    "start_time": "2024-07-03T16:16:55.667Z"
   },
   {
    "duration": 5,
    "start_time": "2024-07-03T16:16:55.995Z"
   },
   {
    "duration": 256,
    "start_time": "2024-07-03T16:16:56.001Z"
   },
   {
    "duration": 7,
    "start_time": "2024-07-03T16:16:56.258Z"
   },
   {
    "duration": 314,
    "start_time": "2024-07-03T16:16:56.266Z"
   },
   {
    "duration": 10,
    "start_time": "2024-07-03T16:16:56.581Z"
   },
   {
    "duration": 339,
    "start_time": "2024-07-03T16:16:56.593Z"
   },
   {
    "duration": 396,
    "start_time": "2024-07-03T16:16:56.934Z"
   },
   {
    "duration": 2,
    "start_time": "2024-07-03T16:16:57.335Z"
   },
   {
    "duration": 31,
    "start_time": "2024-07-03T16:16:57.338Z"
   },
   {
    "duration": 15,
    "start_time": "2024-07-03T16:16:57.371Z"
   },
   {
    "duration": 40,
    "start_time": "2024-07-03T16:16:57.387Z"
   },
   {
    "duration": 22,
    "start_time": "2024-07-03T16:16:57.429Z"
   },
   {
    "duration": 25,
    "start_time": "2024-07-03T16:16:57.453Z"
   },
   {
    "duration": 11,
    "start_time": "2024-07-03T16:16:57.479Z"
   },
   {
    "duration": 5,
    "start_time": "2024-07-03T16:16:57.491Z"
   },
   {
    "duration": 994,
    "start_time": "2024-07-03T16:16:57.497Z"
   },
   {
    "duration": 95,
    "start_time": "2024-07-03T16:16:58.492Z"
   },
   {
    "duration": 215,
    "start_time": "2024-07-03T16:16:58.589Z"
   },
   {
    "duration": 7,
    "start_time": "2024-07-03T16:16:58.805Z"
   },
   {
    "duration": 13,
    "start_time": "2024-07-03T16:16:58.814Z"
   },
   {
    "duration": 7,
    "start_time": "2024-07-03T16:16:58.828Z"
   },
   {
    "duration": 17,
    "start_time": "2024-07-03T16:16:58.836Z"
   },
   {
    "duration": 12,
    "start_time": "2024-07-03T16:16:58.854Z"
   },
   {
    "duration": 6,
    "start_time": "2024-07-03T16:18:36.362Z"
   },
   {
    "duration": 3,
    "start_time": "2024-07-03T16:18:37.999Z"
   },
   {
    "duration": 970,
    "start_time": "2024-07-03T16:18:40.296Z"
   },
   {
    "duration": 990,
    "start_time": "2024-07-03T16:18:46.063Z"
   },
   {
    "duration": 5,
    "start_time": "2024-07-03T16:19:26.230Z"
   },
   {
    "duration": 4,
    "start_time": "2024-07-03T16:19:27.120Z"
   },
   {
    "duration": 4,
    "start_time": "2024-07-03T16:19:33.135Z"
   },
   {
    "duration": 6,
    "start_time": "2024-07-03T16:19:39.761Z"
   },
   {
    "duration": 3,
    "start_time": "2024-07-03T16:19:41.939Z"
   },
   {
    "duration": 1096,
    "start_time": "2024-07-03T16:19:56.166Z"
   },
   {
    "duration": 118,
    "start_time": "2024-07-03T16:20:53.807Z"
   },
   {
    "duration": 14,
    "start_time": "2024-07-03T16:20:54.835Z"
   },
   {
    "duration": 4,
    "start_time": "2024-07-03T16:20:55.884Z"
   },
   {
    "duration": 14,
    "start_time": "2024-07-03T16:21:03.804Z"
   },
   {
    "duration": 5,
    "start_time": "2024-07-03T16:22:04.127Z"
   },
   {
    "duration": 8,
    "start_time": "2024-07-03T16:22:07.496Z"
   },
   {
    "duration": 3,
    "start_time": "2024-07-03T16:22:10.432Z"
   },
   {
    "duration": 5,
    "start_time": "2024-07-03T16:22:26.386Z"
   },
   {
    "duration": 5,
    "start_time": "2024-07-03T16:22:27.644Z"
   },
   {
    "duration": 3,
    "start_time": "2024-07-03T16:22:28.071Z"
   },
   {
    "duration": 6,
    "start_time": "2024-07-03T16:22:35.798Z"
   },
   {
    "duration": 3,
    "start_time": "2024-07-03T16:22:37.775Z"
   },
   {
    "duration": 1015,
    "start_time": "2024-07-03T16:22:40.735Z"
   },
   {
    "duration": 12,
    "start_time": "2024-07-03T16:23:16.067Z"
   },
   {
    "duration": 12,
    "start_time": "2024-07-03T16:23:22.623Z"
   },
   {
    "duration": 19,
    "start_time": "2024-07-03T16:23:29.519Z"
   },
   {
    "duration": 22,
    "start_time": "2024-07-03T16:23:43.079Z"
   },
   {
    "duration": 13,
    "start_time": "2024-07-03T16:23:58.779Z"
   },
   {
    "duration": 14,
    "start_time": "2024-07-03T16:25:42.609Z"
   },
   {
    "duration": 14,
    "start_time": "2024-07-03T16:25:43.821Z"
   },
   {
    "duration": 22,
    "start_time": "2024-07-03T16:25:50.433Z"
   },
   {
    "duration": 12,
    "start_time": "2024-07-03T16:25:58.976Z"
   },
   {
    "duration": 9,
    "start_time": "2024-07-03T16:26:31.705Z"
   },
   {
    "duration": 8,
    "start_time": "2024-07-03T16:26:32.729Z"
   },
   {
    "duration": 12,
    "start_time": "2024-07-03T16:26:33.999Z"
   },
   {
    "duration": 22,
    "start_time": "2024-07-03T16:26:43.880Z"
   },
   {
    "duration": 3,
    "start_time": "2024-07-03T16:26:56.901Z"
   },
   {
    "duration": 7,
    "start_time": "2024-07-03T16:26:57.843Z"
   },
   {
    "duration": 6,
    "start_time": "2024-07-03T16:26:58.801Z"
   },
   {
    "duration": 3,
    "start_time": "2024-07-03T16:26:59.296Z"
   },
   {
    "duration": 6,
    "start_time": "2024-07-03T16:27:18.968Z"
   },
   {
    "duration": 7,
    "start_time": "2024-07-03T16:27:19.751Z"
   },
   {
    "duration": 3,
    "start_time": "2024-07-03T16:27:20.239Z"
   },
   {
    "duration": 6,
    "start_time": "2024-07-03T16:27:35.275Z"
   },
   {
    "duration": 3,
    "start_time": "2024-07-03T16:27:36.526Z"
   },
   {
    "duration": 4,
    "start_time": "2024-07-03T16:27:44.994Z"
   },
   {
    "duration": 3,
    "start_time": "2024-07-03T16:27:47.248Z"
   },
   {
    "duration": 944,
    "start_time": "2024-07-03T16:27:54.900Z"
   },
   {
    "duration": 998,
    "start_time": "2024-07-03T16:28:13.959Z"
   },
   {
    "duration": 3,
    "start_time": "2024-07-03T16:28:20.148Z"
   },
   {
    "duration": 841,
    "start_time": "2024-07-03T16:29:52.042Z"
   },
   {
    "duration": 779,
    "start_time": "2024-07-03T16:30:25.186Z"
   },
   {
    "duration": 390,
    "start_time": "2024-07-03T16:33:36.863Z"
   },
   {
    "duration": 829,
    "start_time": "2024-07-03T16:33:52.420Z"
   },
   {
    "duration": 410,
    "start_time": "2024-07-03T16:34:06.942Z"
   },
   {
    "duration": 406,
    "start_time": "2024-07-03T16:34:11.599Z"
   },
   {
    "duration": 819,
    "start_time": "2024-07-03T16:34:40.672Z"
   },
   {
    "duration": 13,
    "start_time": "2024-07-03T16:35:09.048Z"
   },
   {
    "duration": 3,
    "start_time": "2024-07-03T16:35:13.288Z"
   },
   {
    "duration": 7,
    "start_time": "2024-07-03T16:35:14.117Z"
   },
   {
    "duration": 5,
    "start_time": "2024-07-03T16:35:14.975Z"
   },
   {
    "duration": 4,
    "start_time": "2024-07-03T16:35:15.482Z"
   },
   {
    "duration": 980,
    "start_time": "2024-07-03T16:35:24.985Z"
   },
   {
    "duration": 20,
    "start_time": "2024-07-03T16:35:26.786Z"
   },
   {
    "duration": 193,
    "start_time": "2024-07-03T16:35:29.190Z"
   },
   {
    "duration": 7,
    "start_time": "2024-07-03T16:35:30.780Z"
   },
   {
    "duration": 9,
    "start_time": "2024-07-03T16:35:41.111Z"
   },
   {
    "duration": 9,
    "start_time": "2024-07-03T16:35:48.677Z"
   },
   {
    "duration": 4,
    "start_time": "2024-07-03T16:35:49.461Z"
   },
   {
    "duration": 5,
    "start_time": "2024-07-03T16:36:23.804Z"
   },
   {
    "duration": 1052,
    "start_time": "2024-07-03T16:36:30.405Z"
   },
   {
    "duration": 19,
    "start_time": "2024-07-03T16:36:31.984Z"
   },
   {
    "duration": 213,
    "start_time": "2024-07-03T16:36:33.462Z"
   },
   {
    "duration": 15,
    "start_time": "2024-07-03T16:36:36.107Z"
   },
   {
    "duration": 8,
    "start_time": "2024-07-03T16:36:39.384Z"
   },
   {
    "duration": 4,
    "start_time": "2024-07-03T16:36:40.740Z"
   },
   {
    "duration": 5,
    "start_time": "2024-07-03T16:37:11.025Z"
   },
   {
    "duration": 7,
    "start_time": "2024-07-03T16:37:17.899Z"
   },
   {
    "duration": 13,
    "start_time": "2024-07-03T16:37:23.791Z"
   },
   {
    "duration": 410,
    "start_time": "2024-07-03T16:53:40.599Z"
   },
   {
    "duration": 206,
    "start_time": "2024-07-03T16:53:41.010Z"
   },
   {
    "duration": 2,
    "start_time": "2024-07-03T16:53:41.218Z"
   },
   {
    "duration": 432,
    "start_time": "2024-07-03T16:53:41.221Z"
   },
   {
    "duration": 289,
    "start_time": "2024-07-03T16:53:41.654Z"
   },
   {
    "duration": 2,
    "start_time": "2024-07-03T16:53:41.944Z"
   },
   {
    "duration": 31,
    "start_time": "2024-07-03T16:53:41.948Z"
   },
   {
    "duration": 24,
    "start_time": "2024-07-03T16:53:41.980Z"
   },
   {
    "duration": 2,
    "start_time": "2024-07-03T16:53:42.006Z"
   },
   {
    "duration": 12,
    "start_time": "2024-07-03T16:53:42.010Z"
   },
   {
    "duration": 39,
    "start_time": "2024-07-03T16:53:42.024Z"
   },
   {
    "duration": 16,
    "start_time": "2024-07-03T16:53:42.064Z"
   },
   {
    "duration": 9,
    "start_time": "2024-07-03T16:53:42.082Z"
   },
   {
    "duration": 7,
    "start_time": "2024-07-03T16:53:42.092Z"
   },
   {
    "duration": 15,
    "start_time": "2024-07-03T16:53:42.100Z"
   },
   {
    "duration": 4,
    "start_time": "2024-07-03T16:53:42.116Z"
   },
   {
    "duration": 17,
    "start_time": "2024-07-03T16:53:42.121Z"
   },
   {
    "duration": 65,
    "start_time": "2024-07-03T16:53:42.139Z"
   },
   {
    "duration": 4,
    "start_time": "2024-07-03T16:53:42.205Z"
   },
   {
    "duration": 309,
    "start_time": "2024-07-03T16:53:42.210Z"
   },
   {
    "duration": 5,
    "start_time": "2024-07-03T16:53:42.521Z"
   },
   {
    "duration": 387,
    "start_time": "2024-07-03T16:53:42.528Z"
   },
   {
    "duration": 6,
    "start_time": "2024-07-03T16:53:42.916Z"
   },
   {
    "duration": 432,
    "start_time": "2024-07-03T16:53:42.924Z"
   },
   {
    "duration": 9,
    "start_time": "2024-07-03T16:53:43.409Z"
   },
   {
    "duration": 698,
    "start_time": "2024-07-03T16:53:43.419Z"
   },
   {
    "duration": 446,
    "start_time": "2024-07-03T16:53:44.119Z"
   },
   {
    "duration": 2,
    "start_time": "2024-07-03T16:53:44.568Z"
   },
   {
    "duration": 46,
    "start_time": "2024-07-03T16:53:44.572Z"
   },
   {
    "duration": 24,
    "start_time": "2024-07-03T16:53:44.620Z"
   },
   {
    "duration": 23,
    "start_time": "2024-07-03T16:53:44.645Z"
   },
   {
    "duration": 10,
    "start_time": "2024-07-03T16:53:44.669Z"
   },
   {
    "duration": 17,
    "start_time": "2024-07-03T16:53:44.680Z"
   },
   {
    "duration": 9,
    "start_time": "2024-07-03T16:53:44.698Z"
   },
   {
    "duration": 21,
    "start_time": "2024-07-03T16:53:44.708Z"
   },
   {
    "duration": 1008,
    "start_time": "2024-07-03T16:53:44.730Z"
   },
   {
    "duration": 19,
    "start_time": "2024-07-03T16:53:45.740Z"
   },
   {
    "duration": 205,
    "start_time": "2024-07-03T16:53:45.761Z"
   },
   {
    "duration": 10,
    "start_time": "2024-07-03T16:53:45.968Z"
   },
   {
    "duration": 39,
    "start_time": "2024-07-03T16:53:45.979Z"
   },
   {
    "duration": 20,
    "start_time": "2024-07-03T16:53:46.019Z"
   },
   {
    "duration": 32,
    "start_time": "2024-07-03T16:53:46.040Z"
   },
   {
    "duration": 19,
    "start_time": "2024-07-03T16:53:46.074Z"
   },
   {
    "duration": 18,
    "start_time": "2024-07-03T16:54:08.670Z"
   },
   {
    "duration": 44,
    "start_time": "2024-07-12T05:56:58.849Z"
   },
   {
    "duration": 5,
    "start_time": "2024-07-12T05:57:08.980Z"
   },
   {
    "duration": 0,
    "start_time": "2024-07-12T05:57:59.579Z"
   },
   {
    "duration": 337,
    "start_time": "2024-07-12T05:58:00.198Z"
   },
   {
    "duration": 369,
    "start_time": "2024-07-12T05:58:00.537Z"
   },
   {
    "duration": 2,
    "start_time": "2024-07-12T05:58:00.908Z"
   },
   {
    "duration": 477,
    "start_time": "2024-07-12T05:58:00.911Z"
   },
   {
    "duration": 196,
    "start_time": "2024-07-12T05:58:01.391Z"
   },
   {
    "duration": 2,
    "start_time": "2024-07-12T05:58:01.588Z"
   },
   {
    "duration": 63,
    "start_time": "2024-07-12T05:58:01.591Z"
   },
   {
    "duration": 61,
    "start_time": "2024-07-12T05:58:01.655Z"
   },
   {
    "duration": 25,
    "start_time": "2024-07-12T05:58:01.717Z"
   },
   {
    "duration": 35,
    "start_time": "2024-07-12T05:58:01.743Z"
   },
   {
    "duration": 37,
    "start_time": "2024-07-12T05:58:01.779Z"
   },
   {
    "duration": 41,
    "start_time": "2024-07-12T05:58:01.817Z"
   },
   {
    "duration": 30,
    "start_time": "2024-07-12T05:58:01.859Z"
   },
   {
    "duration": 27,
    "start_time": "2024-07-12T05:58:01.891Z"
   },
   {
    "duration": 20,
    "start_time": "2024-07-12T05:58:01.919Z"
   },
   {
    "duration": 31,
    "start_time": "2024-07-12T05:58:01.941Z"
   },
   {
    "duration": 43,
    "start_time": "2024-07-12T05:58:01.974Z"
   },
   {
    "duration": 61,
    "start_time": "2024-07-12T05:58:02.019Z"
   },
   {
    "duration": 10,
    "start_time": "2024-07-12T05:58:02.081Z"
   },
   {
    "duration": 386,
    "start_time": "2024-07-12T05:58:12.283Z"
   },
   {
    "duration": 227,
    "start_time": "2024-07-12T05:58:12.671Z"
   },
   {
    "duration": 4,
    "start_time": "2024-07-12T05:58:12.899Z"
   },
   {
    "duration": 494,
    "start_time": "2024-07-12T05:58:12.905Z"
   },
   {
    "duration": 62,
    "start_time": "2024-07-12T05:58:13.401Z"
   },
   {
    "duration": 3,
    "start_time": "2024-07-12T05:58:13.464Z"
   },
   {
    "duration": 32,
    "start_time": "2024-07-12T05:58:13.468Z"
   },
   {
    "duration": 30,
    "start_time": "2024-07-12T05:58:13.501Z"
   },
   {
    "duration": 2,
    "start_time": "2024-07-12T05:58:13.532Z"
   },
   {
    "duration": 25,
    "start_time": "2024-07-12T05:58:13.535Z"
   },
   {
    "duration": 17,
    "start_time": "2024-07-12T05:58:13.561Z"
   },
   {
    "duration": 8,
    "start_time": "2024-07-12T05:58:13.580Z"
   },
   {
    "duration": 34,
    "start_time": "2024-07-12T05:58:13.589Z"
   },
   {
    "duration": 16,
    "start_time": "2024-07-12T05:58:13.626Z"
   },
   {
    "duration": 15,
    "start_time": "2024-07-12T05:58:13.643Z"
   },
   {
    "duration": 12,
    "start_time": "2024-07-12T05:58:13.659Z"
   },
   {
    "duration": 18,
    "start_time": "2024-07-12T05:58:13.672Z"
   },
   {
    "duration": 64,
    "start_time": "2024-07-12T05:58:13.692Z"
   },
   {
    "duration": 4,
    "start_time": "2024-07-12T05:58:13.757Z"
   },
   {
    "duration": 269,
    "start_time": "2024-07-12T05:58:13.763Z"
   },
   {
    "duration": 6,
    "start_time": "2024-07-12T05:58:14.033Z"
   },
   {
    "duration": 237,
    "start_time": "2024-07-12T05:58:14.057Z"
   },
   {
    "duration": 7,
    "start_time": "2024-07-12T05:58:14.296Z"
   },
   {
    "duration": 313,
    "start_time": "2024-07-12T05:58:14.305Z"
   },
   {
    "duration": 9,
    "start_time": "2024-07-12T05:58:14.620Z"
   },
   {
    "duration": 383,
    "start_time": "2024-07-12T05:58:14.630Z"
   },
   {
    "duration": 399,
    "start_time": "2024-07-12T05:58:15.014Z"
   },
   {
    "duration": 2,
    "start_time": "2024-07-12T05:58:15.415Z"
   },
   {
    "duration": 20,
    "start_time": "2024-07-12T05:58:15.418Z"
   },
   {
    "duration": 3,
    "start_time": "2024-07-12T05:58:15.439Z"
   },
   {
    "duration": 15,
    "start_time": "2024-07-12T05:58:15.443Z"
   },
   {
    "duration": 10,
    "start_time": "2024-07-12T05:58:15.460Z"
   },
   {
    "duration": 4,
    "start_time": "2024-07-12T05:58:15.472Z"
   },
   {
    "duration": 21,
    "start_time": "2024-07-12T05:58:15.477Z"
   },
   {
    "duration": 10,
    "start_time": "2024-07-12T05:58:15.500Z"
   },
   {
    "duration": 11,
    "start_time": "2024-07-12T05:58:15.511Z"
   },
   {
    "duration": 1024,
    "start_time": "2024-07-12T05:58:15.523Z"
   },
   {
    "duration": 30,
    "start_time": "2024-07-12T05:58:16.549Z"
   },
   {
    "duration": 204,
    "start_time": "2024-07-12T05:58:16.580Z"
   },
   {
    "duration": 8,
    "start_time": "2024-07-12T05:58:16.786Z"
   },
   {
    "duration": 9,
    "start_time": "2024-07-12T05:58:16.799Z"
   },
   {
    "duration": 5,
    "start_time": "2024-07-12T05:58:16.810Z"
   },
   {
    "duration": 7,
    "start_time": "2024-07-12T05:58:16.817Z"
   },
   {
    "duration": 38,
    "start_time": "2024-07-12T05:58:16.825Z"
   },
   {
    "duration": 58,
    "start_time": "2024-07-12T05:58:16.865Z"
   },
   {
    "duration": 348,
    "start_time": "2024-07-12T05:58:20.391Z"
   },
   {
    "duration": 204,
    "start_time": "2024-07-12T05:58:20.741Z"
   },
   {
    "duration": 3,
    "start_time": "2024-07-12T05:58:20.946Z"
   },
   {
    "duration": 455,
    "start_time": "2024-07-12T05:58:20.950Z"
   },
   {
    "duration": 64,
    "start_time": "2024-07-12T05:58:21.407Z"
   },
   {
    "duration": 2,
    "start_time": "2024-07-12T05:58:21.473Z"
   },
   {
    "duration": 18,
    "start_time": "2024-07-12T05:58:21.477Z"
   },
   {
    "duration": 21,
    "start_time": "2024-07-12T05:58:21.497Z"
   },
   {
    "duration": 2,
    "start_time": "2024-07-12T05:58:21.519Z"
   },
   {
    "duration": 3,
    "start_time": "2024-07-12T05:58:21.523Z"
   },
   {
    "duration": 6,
    "start_time": "2024-07-12T05:58:21.527Z"
   },
   {
    "duration": 25,
    "start_time": "2024-07-12T05:58:21.534Z"
   },
   {
    "duration": 10,
    "start_time": "2024-07-12T05:58:21.562Z"
   },
   {
    "duration": 8,
    "start_time": "2024-07-12T05:58:21.576Z"
   },
   {
    "duration": 19,
    "start_time": "2024-07-12T05:58:21.586Z"
   },
   {
    "duration": 4,
    "start_time": "2024-07-12T05:58:21.607Z"
   },
   {
    "duration": 14,
    "start_time": "2024-07-12T05:58:21.613Z"
   },
   {
    "duration": 81,
    "start_time": "2024-07-12T05:58:21.628Z"
   },
   {
    "duration": 4,
    "start_time": "2024-07-12T05:58:21.710Z"
   },
   {
    "duration": 289,
    "start_time": "2024-07-12T05:58:21.716Z"
   },
   {
    "duration": 7,
    "start_time": "2024-07-12T05:58:22.006Z"
   },
   {
    "duration": 271,
    "start_time": "2024-07-12T05:58:22.014Z"
   },
   {
    "duration": 7,
    "start_time": "2024-07-12T05:58:22.286Z"
   },
   {
    "duration": 323,
    "start_time": "2024-07-12T05:58:22.295Z"
   },
   {
    "duration": 9,
    "start_time": "2024-07-12T05:58:22.619Z"
   },
   {
    "duration": 374,
    "start_time": "2024-07-12T05:58:22.629Z"
   },
   {
    "duration": 402,
    "start_time": "2024-07-12T05:58:23.004Z"
   },
   {
    "duration": 2,
    "start_time": "2024-07-12T05:58:23.407Z"
   },
   {
    "duration": 26,
    "start_time": "2024-07-12T05:58:23.411Z"
   },
   {
    "duration": 3,
    "start_time": "2024-07-12T05:58:23.438Z"
   },
   {
    "duration": 18,
    "start_time": "2024-07-12T05:58:23.443Z"
   },
   {
    "duration": 11,
    "start_time": "2024-07-12T05:58:23.463Z"
   },
   {
    "duration": 3,
    "start_time": "2024-07-12T05:58:23.475Z"
   },
   {
    "duration": 8,
    "start_time": "2024-07-12T05:58:23.479Z"
   },
   {
    "duration": 4,
    "start_time": "2024-07-12T05:58:23.489Z"
   },
   {
    "duration": 6,
    "start_time": "2024-07-12T05:58:23.494Z"
   },
   {
    "duration": 998,
    "start_time": "2024-07-12T05:58:23.501Z"
   },
   {
    "duration": 18,
    "start_time": "2024-07-12T05:58:24.500Z"
   },
   {
    "duration": 231,
    "start_time": "2024-07-12T05:58:24.520Z"
   },
   {
    "duration": 13,
    "start_time": "2024-07-12T05:58:24.752Z"
   },
   {
    "duration": 23,
    "start_time": "2024-07-12T05:58:24.770Z"
   },
   {
    "duration": 16,
    "start_time": "2024-07-12T05:58:24.794Z"
   },
   {
    "duration": 19,
    "start_time": "2024-07-12T05:58:24.812Z"
   },
   {
    "duration": 28,
    "start_time": "2024-07-12T05:58:24.833Z"
   },
   {
    "duration": 58,
    "start_time": "2024-07-12T05:58:24.862Z"
   },
   {
    "duration": 4,
    "start_time": "2024-07-12T05:59:19.456Z"
   },
   {
    "duration": 96,
    "start_time": "2024-07-12T06:12:51.680Z"
   },
   {
    "duration": 65,
    "start_time": "2024-07-12T06:16:36.393Z"
   },
   {
    "duration": 329,
    "start_time": "2024-07-12T06:19:17.411Z"
   },
   {
    "duration": 274,
    "start_time": "2024-07-12T06:19:20.818Z"
   },
   {
    "duration": 19,
    "start_time": "2024-07-12T06:19:21.876Z"
   },
   {
    "duration": 276,
    "start_time": "2024-07-12T06:19:28.300Z"
   },
   {
    "duration": 3,
    "start_time": "2024-07-12T06:21:12.671Z"
   },
   {
    "duration": 18,
    "start_time": "2024-07-12T06:21:16.186Z"
   },
   {
    "duration": 176,
    "start_time": "2024-07-12T06:21:25.437Z"
   },
   {
    "duration": 10,
    "start_time": "2024-07-12T06:21:27.909Z"
   },
   {
    "duration": 2,
    "start_time": "2024-07-12T06:28:07.543Z"
   },
   {
    "duration": 61,
    "start_time": "2024-07-12T06:28:24.583Z"
   },
   {
    "duration": 8,
    "start_time": "2024-07-12T06:29:59.456Z"
   },
   {
    "duration": 2,
    "start_time": "2024-07-12T06:31:08.162Z"
   },
   {
    "duration": 7,
    "start_time": "2024-07-12T06:32:57.328Z"
   },
   {
    "duration": 2,
    "start_time": "2024-07-12T06:34:42.028Z"
   },
   {
    "duration": 8,
    "start_time": "2024-07-12T06:35:52.907Z"
   },
   {
    "duration": 9,
    "start_time": "2024-07-12T06:38:11.585Z"
   },
   {
    "duration": 8,
    "start_time": "2024-07-12T06:38:14.965Z"
   },
   {
    "duration": 7,
    "start_time": "2024-07-12T06:38:17.214Z"
   },
   {
    "duration": 9,
    "start_time": "2024-07-12T06:38:20.309Z"
   },
   {
    "duration": 8,
    "start_time": "2024-07-12T06:39:30.700Z"
   },
   {
    "duration": 10,
    "start_time": "2024-07-12T06:40:58.739Z"
   },
   {
    "duration": 11,
    "start_time": "2024-07-12T06:41:07.975Z"
   },
   {
    "duration": 11,
    "start_time": "2024-07-12T06:41:11.071Z"
   },
   {
    "duration": 10,
    "start_time": "2024-07-12T06:41:12.895Z"
   },
   {
    "duration": 10,
    "start_time": "2024-07-12T06:41:14.903Z"
   },
   {
    "duration": 10,
    "start_time": "2024-07-12T06:41:16.844Z"
   },
   {
    "duration": 7,
    "start_time": "2024-07-12T06:45:38.948Z"
   },
   {
    "duration": 20,
    "start_time": "2024-07-12T06:48:29.769Z"
   },
   {
    "duration": 8,
    "start_time": "2024-07-12T06:51:19.907Z"
   },
   {
    "duration": 4,
    "start_time": "2024-07-12T06:56:50.759Z"
   },
   {
    "duration": 7,
    "start_time": "2024-07-12T06:57:26.199Z"
   },
   {
    "duration": 75,
    "start_time": "2024-07-12T07:02:37.018Z"
   },
   {
    "duration": 2,
    "start_time": "2024-07-12T07:04:08.050Z"
   },
   {
    "duration": 60,
    "start_time": "2024-07-12T07:11:39.865Z"
   },
   {
    "duration": 11,
    "start_time": "2024-07-12T07:12:13.135Z"
   },
   {
    "duration": 459,
    "start_time": "2024-07-12T19:52:53.077Z"
   },
   {
    "duration": 306,
    "start_time": "2024-07-12T19:52:54.613Z"
   },
   {
    "duration": 3,
    "start_time": "2024-07-12T19:52:54.921Z"
   },
   {
    "duration": 31,
    "start_time": "2024-07-12T19:52:54.926Z"
   },
   {
    "duration": 71,
    "start_time": "2024-07-12T19:52:54.959Z"
   },
   {
    "duration": 51,
    "start_time": "2024-07-12T19:52:55.032Z"
   },
   {
    "duration": 6,
    "start_time": "2024-07-12T19:52:55.086Z"
   },
   {
    "duration": 9,
    "start_time": "2024-07-12T19:52:55.093Z"
   },
   {
    "duration": 8,
    "start_time": "2024-07-12T19:52:55.104Z"
   },
   {
    "duration": 10,
    "start_time": "2024-07-12T19:52:55.114Z"
   },
   {
    "duration": 12,
    "start_time": "2024-07-12T19:52:55.126Z"
   },
   {
    "duration": 45,
    "start_time": "2024-07-12T19:52:55.141Z"
   },
   {
    "duration": 6,
    "start_time": "2024-07-12T19:52:55.188Z"
   },
   {
    "duration": 8,
    "start_time": "2024-07-12T19:52:55.196Z"
   },
   {
    "duration": 86,
    "start_time": "2024-07-12T19:52:55.206Z"
   },
   {
    "duration": 5,
    "start_time": "2024-07-12T19:52:55.294Z"
   },
   {
    "duration": 388,
    "start_time": "2024-07-12T19:52:55.300Z"
   },
   {
    "duration": 9,
    "start_time": "2024-07-12T19:52:55.690Z"
   },
   {
    "duration": 353,
    "start_time": "2024-07-12T19:52:55.701Z"
   },
   {
    "duration": 7,
    "start_time": "2024-07-12T19:52:56.056Z"
   },
   {
    "duration": 300,
    "start_time": "2024-07-12T19:52:56.082Z"
   },
   {
    "duration": 18,
    "start_time": "2024-07-12T19:52:56.384Z"
   },
   {
    "duration": 466,
    "start_time": "2024-07-12T19:52:56.404Z"
   },
   {
    "duration": 487,
    "start_time": "2024-07-12T19:52:56.872Z"
   },
   {
    "duration": 3,
    "start_time": "2024-07-12T19:52:57.364Z"
   },
   {
    "duration": 63,
    "start_time": "2024-07-12T19:52:57.369Z"
   },
   {
    "duration": 25,
    "start_time": "2024-07-12T19:52:57.434Z"
   },
   {
    "duration": 11,
    "start_time": "2024-07-12T19:52:57.460Z"
   },
   {
    "duration": 4,
    "start_time": "2024-07-12T19:52:57.473Z"
   },
   {
    "duration": 13,
    "start_time": "2024-07-12T19:52:57.478Z"
   },
   {
    "duration": 5,
    "start_time": "2024-07-12T19:52:57.493Z"
   },
   {
    "duration": 11,
    "start_time": "2024-07-12T19:52:57.500Z"
   },
   {
    "duration": 7,
    "start_time": "2024-07-12T19:52:57.513Z"
   },
   {
    "duration": 5,
    "start_time": "2024-07-12T19:52:57.521Z"
   },
   {
    "duration": 1249,
    "start_time": "2024-07-12T19:52:57.528Z"
   },
   {
    "duration": 5,
    "start_time": "2024-07-12T19:52:58.779Z"
   },
   {
    "duration": 23,
    "start_time": "2024-07-12T19:52:58.786Z"
   },
   {
    "duration": 225,
    "start_time": "2024-07-12T19:52:58.811Z"
   },
   {
    "duration": 12,
    "start_time": "2024-07-12T19:52:59.038Z"
   },
   {
    "duration": 60,
    "start_time": "2024-07-12T19:52:59.052Z"
   },
   {
    "duration": 5,
    "start_time": "2024-07-12T19:52:59.114Z"
   },
   {
    "duration": 4,
    "start_time": "2024-07-12T19:52:59.121Z"
   },
   {
    "duration": 21,
    "start_time": "2024-07-12T19:52:59.127Z"
   },
   {
    "duration": 3,
    "start_time": "2024-07-12T19:52:59.150Z"
   },
   {
    "duration": 9,
    "start_time": "2024-07-12T19:52:59.154Z"
   },
   {
    "duration": 18,
    "start_time": "2024-07-12T19:52:59.165Z"
   },
   {
    "duration": 2,
    "start_time": "2024-07-12T19:52:59.185Z"
   },
   {
    "duration": 6,
    "start_time": "2024-07-12T19:52:59.189Z"
   },
   {
    "duration": 9,
    "start_time": "2024-07-12T19:52:59.196Z"
   },
   {
    "duration": 4,
    "start_time": "2024-07-12T19:52:59.207Z"
   },
   {
    "duration": 51,
    "start_time": "2024-07-13T14:06:58.874Z"
   },
   {
    "duration": 62,
    "start_time": "2024-07-13T14:07:02.887Z"
   },
   {
    "duration": 405,
    "start_time": "2024-07-13T14:07:08.272Z"
   },
   {
    "duration": 391,
    "start_time": "2024-07-13T14:07:08.678Z"
   },
   {
    "duration": 2,
    "start_time": "2024-07-13T14:07:09.071Z"
   },
   {
    "duration": 454,
    "start_time": "2024-07-13T14:07:09.075Z"
   },
   {
    "duration": 275,
    "start_time": "2024-07-13T14:07:09.530Z"
   },
   {
    "duration": 3,
    "start_time": "2024-07-13T14:07:09.807Z"
   },
   {
    "duration": 28,
    "start_time": "2024-07-13T14:07:09.812Z"
   },
   {
    "duration": 33,
    "start_time": "2024-07-13T14:07:09.843Z"
   },
   {
    "duration": 2,
    "start_time": "2024-07-13T14:07:09.878Z"
   },
   {
    "duration": 3,
    "start_time": "2024-07-13T14:07:09.883Z"
   },
   {
    "duration": 10,
    "start_time": "2024-07-13T14:07:09.888Z"
   },
   {
    "duration": 5,
    "start_time": "2024-07-13T14:07:09.900Z"
   },
   {
    "duration": 11,
    "start_time": "2024-07-13T14:07:09.907Z"
   },
   {
    "duration": 43,
    "start_time": "2024-07-13T14:07:09.920Z"
   },
   {
    "duration": 15,
    "start_time": "2024-07-13T14:07:09.965Z"
   },
   {
    "duration": 4,
    "start_time": "2024-07-13T14:07:09.981Z"
   },
   {
    "duration": 6,
    "start_time": "2024-07-13T14:07:09.987Z"
   },
   {
    "duration": 90,
    "start_time": "2024-07-13T14:07:09.995Z"
   },
   {
    "duration": 4,
    "start_time": "2024-07-13T14:07:10.086Z"
   },
   {
    "duration": 354,
    "start_time": "2024-07-13T14:07:10.091Z"
   },
   {
    "duration": 19,
    "start_time": "2024-07-13T14:07:10.447Z"
   },
   {
    "duration": 241,
    "start_time": "2024-07-13T14:07:10.467Z"
   },
   {
    "duration": 7,
    "start_time": "2024-07-13T14:07:10.710Z"
   },
   {
    "duration": 318,
    "start_time": "2024-07-13T14:07:10.719Z"
   },
   {
    "duration": 25,
    "start_time": "2024-07-13T14:07:11.039Z"
   },
   {
    "duration": 441,
    "start_time": "2024-07-13T14:07:11.066Z"
   },
   {
    "duration": 454,
    "start_time": "2024-07-13T14:07:11.509Z"
   },
   {
    "duration": 2,
    "start_time": "2024-07-13T14:07:11.968Z"
   },
   {
    "duration": 14,
    "start_time": "2024-07-13T14:07:11.971Z"
   },
   {
    "duration": 3,
    "start_time": "2024-07-13T14:07:11.987Z"
   },
   {
    "duration": 16,
    "start_time": "2024-07-13T14:07:11.991Z"
   },
   {
    "duration": 4,
    "start_time": "2024-07-13T14:07:12.009Z"
   },
   {
    "duration": 15,
    "start_time": "2024-07-13T14:07:12.014Z"
   },
   {
    "duration": 31,
    "start_time": "2024-07-13T14:07:12.030Z"
   },
   {
    "duration": 14,
    "start_time": "2024-07-13T14:07:12.063Z"
   },
   {
    "duration": 8,
    "start_time": "2024-07-13T14:07:12.078Z"
   },
   {
    "duration": 5,
    "start_time": "2024-07-13T14:07:12.087Z"
   },
   {
    "duration": 1087,
    "start_time": "2024-07-13T14:07:12.094Z"
   },
   {
    "duration": 3,
    "start_time": "2024-07-13T14:07:13.182Z"
   },
   {
    "duration": 36,
    "start_time": "2024-07-13T14:07:13.187Z"
   },
   {
    "duration": 194,
    "start_time": "2024-07-13T14:07:13.224Z"
   },
   {
    "duration": 10,
    "start_time": "2024-07-13T14:07:13.420Z"
   },
   {
    "duration": 13,
    "start_time": "2024-07-13T14:07:13.431Z"
   },
   {
    "duration": 28,
    "start_time": "2024-07-13T14:07:13.446Z"
   },
   {
    "duration": 30,
    "start_time": "2024-07-13T14:07:13.476Z"
   },
   {
    "duration": 25,
    "start_time": "2024-07-13T14:07:13.508Z"
   },
   {
    "duration": 28,
    "start_time": "2024-07-13T14:07:13.535Z"
   },
   {
    "duration": 23,
    "start_time": "2024-07-13T14:07:13.565Z"
   },
   {
    "duration": 37,
    "start_time": "2024-07-13T14:07:13.589Z"
   },
   {
    "duration": 28,
    "start_time": "2024-07-13T14:07:13.627Z"
   },
   {
    "duration": 23,
    "start_time": "2024-07-13T14:07:13.656Z"
   },
   {
    "duration": 32,
    "start_time": "2024-07-13T14:07:13.680Z"
   },
   {
    "duration": 20,
    "start_time": "2024-07-13T14:07:13.714Z"
   },
   {
    "duration": 62,
    "start_time": "2024-07-13T14:07:13.736Z"
   },
   {
    "duration": 0,
    "start_time": "2024-07-13T14:07:13.801Z"
   },
   {
    "duration": 9,
    "start_time": "2024-07-13T14:07:39.515Z"
   },
   {
    "duration": 10,
    "start_time": "2024-07-13T14:09:03.524Z"
   },
   {
    "duration": 7,
    "start_time": "2024-07-13T14:10:00.289Z"
   },
   {
    "duration": 7,
    "start_time": "2024-07-13T14:10:31.865Z"
   },
   {
    "duration": 10,
    "start_time": "2024-07-13T14:11:45.807Z"
   },
   {
    "duration": 2,
    "start_time": "2024-07-13T14:12:06.862Z"
   },
   {
    "duration": 2,
    "start_time": "2024-07-13T14:12:14.801Z"
   },
   {
    "duration": 3,
    "start_time": "2024-07-13T14:12:21.834Z"
   },
   {
    "duration": 67,
    "start_time": "2024-07-13T14:13:47.165Z"
   },
   {
    "duration": 67,
    "start_time": "2024-07-13T14:13:51.629Z"
   },
   {
    "duration": 63,
    "start_time": "2024-07-13T14:22:12.420Z"
   },
   {
    "duration": 14,
    "start_time": "2024-07-13T14:39:46.071Z"
   },
   {
    "duration": 8,
    "start_time": "2024-07-13T14:39:46.911Z"
   },
   {
    "duration": 9,
    "start_time": "2024-07-13T14:39:47.555Z"
   },
   {
    "duration": 8,
    "start_time": "2024-07-13T14:44:46.873Z"
   },
   {
    "duration": 420,
    "start_time": "2024-07-13T17:19:17.195Z"
   },
   {
    "duration": 424,
    "start_time": "2024-07-13T17:19:17.617Z"
   },
   {
    "duration": 2,
    "start_time": "2024-07-13T17:19:18.043Z"
   },
   {
    "duration": 544,
    "start_time": "2024-07-13T17:19:18.047Z"
   },
   {
    "duration": 288,
    "start_time": "2024-07-13T17:19:18.594Z"
   },
   {
    "duration": 2,
    "start_time": "2024-07-13T17:19:18.884Z"
   },
   {
    "duration": 90,
    "start_time": "2024-07-13T17:19:18.888Z"
   },
   {
    "duration": 26,
    "start_time": "2024-07-13T17:19:18.980Z"
   },
   {
    "duration": 2,
    "start_time": "2024-07-13T17:19:19.008Z"
   },
   {
    "duration": 4,
    "start_time": "2024-07-13T17:19:19.012Z"
   },
   {
    "duration": 21,
    "start_time": "2024-07-13T17:19:19.017Z"
   },
   {
    "duration": 6,
    "start_time": "2024-07-13T17:19:19.040Z"
   },
   {
    "duration": 19,
    "start_time": "2024-07-13T17:19:19.047Z"
   },
   {
    "duration": 16,
    "start_time": "2024-07-13T17:19:19.069Z"
   },
   {
    "duration": 18,
    "start_time": "2024-07-13T17:19:19.087Z"
   },
   {
    "duration": 5,
    "start_time": "2024-07-13T17:19:19.106Z"
   },
   {
    "duration": 18,
    "start_time": "2024-07-13T17:19:19.112Z"
   },
   {
    "duration": 73,
    "start_time": "2024-07-13T17:19:19.132Z"
   },
   {
    "duration": 6,
    "start_time": "2024-07-13T17:19:19.206Z"
   },
   {
    "duration": 479,
    "start_time": "2024-07-13T17:19:19.213Z"
   },
   {
    "duration": 6,
    "start_time": "2024-07-13T17:19:19.693Z"
   },
   {
    "duration": 402,
    "start_time": "2024-07-13T17:19:19.701Z"
   },
   {
    "duration": 7,
    "start_time": "2024-07-13T17:19:20.104Z"
   },
   {
    "duration": 575,
    "start_time": "2024-07-13T17:19:20.113Z"
   },
   {
    "duration": 12,
    "start_time": "2024-07-13T17:19:20.690Z"
   },
   {
    "duration": 689,
    "start_time": "2024-07-13T17:19:20.703Z"
   },
   {
    "duration": 471,
    "start_time": "2024-07-13T17:19:21.393Z"
   },
   {
    "duration": 3,
    "start_time": "2024-07-13T17:19:21.866Z"
   },
   {
    "duration": 21,
    "start_time": "2024-07-13T17:19:21.871Z"
   },
   {
    "duration": 3,
    "start_time": "2024-07-13T17:19:21.894Z"
   },
   {
    "duration": 9,
    "start_time": "2024-07-13T17:19:21.899Z"
   },
   {
    "duration": 10,
    "start_time": "2024-07-13T17:19:21.910Z"
   },
   {
    "duration": 24,
    "start_time": "2024-07-13T17:19:21.922Z"
   },
   {
    "duration": 11,
    "start_time": "2024-07-13T17:19:21.948Z"
   },
   {
    "duration": 32,
    "start_time": "2024-07-13T17:19:21.961Z"
   },
   {
    "duration": 7,
    "start_time": "2024-07-13T17:19:21.995Z"
   },
   {
    "duration": 5,
    "start_time": "2024-07-13T17:19:22.004Z"
   },
   {
    "duration": 1146,
    "start_time": "2024-07-13T17:19:22.010Z"
   },
   {
    "duration": 4,
    "start_time": "2024-07-13T17:19:23.157Z"
   },
   {
    "duration": 37,
    "start_time": "2024-07-13T17:19:23.162Z"
   },
   {
    "duration": 194,
    "start_time": "2024-07-13T17:19:23.203Z"
   },
   {
    "duration": 11,
    "start_time": "2024-07-13T17:19:23.399Z"
   },
   {
    "duration": 3,
    "start_time": "2024-07-13T17:19:23.411Z"
   },
   {
    "duration": 12,
    "start_time": "2024-07-13T17:19:23.416Z"
   },
   {
    "duration": 7,
    "start_time": "2024-07-13T17:19:23.430Z"
   },
   {
    "duration": 14,
    "start_time": "2024-07-13T17:19:23.438Z"
   },
   {
    "duration": 5,
    "start_time": "2024-07-13T17:19:23.453Z"
   },
   {
    "duration": 4,
    "start_time": "2024-07-13T17:19:23.460Z"
   },
   {
    "duration": 10,
    "start_time": "2024-07-13T17:19:23.465Z"
   },
   {
    "duration": 10,
    "start_time": "2024-07-13T17:19:23.477Z"
   },
   {
    "duration": 3,
    "start_time": "2024-07-13T17:19:23.489Z"
   },
   {
    "duration": 4,
    "start_time": "2024-07-13T17:19:23.493Z"
   },
   {
    "duration": 4,
    "start_time": "2024-07-13T17:19:23.499Z"
   },
   {
    "duration": 11,
    "start_time": "2024-07-13T17:19:23.505Z"
   },
   {
    "duration": 8,
    "start_time": "2024-07-13T17:19:23.518Z"
   },
   {
    "duration": 22,
    "start_time": "2024-07-13T17:19:23.528Z"
   }
  ],
  "kernelspec": {
   "display_name": "Python 3 (ipykernel)",
   "language": "python",
   "name": "python3"
  },
  "language_info": {
   "codemirror_mode": {
    "name": "ipython",
    "version": 3
   },
   "file_extension": ".py",
   "mimetype": "text/x-python",
   "name": "python",
   "nbconvert_exporter": "python",
   "pygments_lexer": "ipython3",
   "version": "3.11.7"
  },
  "toc": {
   "base_numbering": 1,
   "nav_menu": {},
   "number_sections": true,
   "sideBar": true,
   "skip_h1_title": true,
   "title_cell": "Table of Contents",
   "title_sidebar": "Contents",
   "toc_cell": false,
   "toc_position": {
    "height": "calc(100% - 180px)",
    "left": "10px",
    "top": "150px",
    "width": "380.594px"
   },
   "toc_section_display": true,
   "toc_window_display": true
  }
 },
 "nbformat": 4,
 "nbformat_minor": 5
}
